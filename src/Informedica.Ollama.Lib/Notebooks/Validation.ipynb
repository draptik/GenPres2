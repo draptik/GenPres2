{
 "cells": [
  {
   "cell_type": "code",
   "execution_count": 1,
   "metadata": {
    "dotnet_interactive": {
     "language": "fsharp"
    },
    "polyglot_notebook": {
     "kernelName": "fsharp"
    },
    "vscode": {
     "languageId": "polyglot-notebook"
    }
   },
   "outputs": [],
   "source": [
    "#load \"load.fsx\"\n",
    "\n",
    "open Newtonsoft.Json\n",
    "open Informedica.Utils.Lib\n",
    "open Informedica.Utils.Lib.BCL\n",
    "open Informedica.Ollama.Lib\n",
    "open Ollama.Operators"
   ]
  },
  {
   "cell_type": "code",
   "execution_count": 2,
   "metadata": {
    "dotnet_interactive": {
     "language": "fsharp"
    },
    "polyglot_notebook": {
     "kernelName": "fsharp"
    },
    "vscode": {
     "languageId": "polyglot-notebook"
    }
   },
   "outputs": [],
   "source": [
    "let validator =\n",
    "    fun s -> \n",
    "    match s |> String.contains \"3\" with\n",
    "    | true -> \"1 + 1 could be 3\" |> Ok\n",
    "    | false -> \"the answer should include the possibility of a '1 + 1 could be 3'\" |> Error"
   ]
  },
  {
   "cell_type": "code",
   "execution_count": 3,
   "metadata": {
    "dotnet_interactive": {
     "language": "fsharp"
    },
    "polyglot_notebook": {
     "kernelName": "fsharp"
    },
    "vscode": {
     "languageId": "polyglot-notebook"
    }
   },
   "outputs": [
    {
     "name": "stdout",
     "output_type": "stream",
     "text": [
      "Starting conversation with openchat:7b\n",
      "\n",
      "Options:\n",
      "{\"num_keep\":null,\"seed\":101,\"num_predict\":null,\"top_k\":null,\"top_p\":null,\"tfs_z\":null,\"typical_p\":null,\"repeat_last_n\":64,\"temperature\":0.0,\"repeat_penalty\":null,\"presence_penalty\":null,\"frequency_penalty\":null,\"mirostat\":0,\"mirostat_tau\":null,\"mirostat_eta\":null,\"penalize_newline\":null,\"stop\":[],\"numa\":null,\"num_ctx\":2048,\"num_batch\":null,\"num_gqa\":null,\"num_gpu\":null,\"main_gpu\":null,\"low_vram\":null,\"f16_kv\":null,\"vocab_only\":null,\"use_mmap\":null,\"use_mlock\":null,\"rope_frequency_base\":null,\"rope_frequency_scale\":null,\"num_thread\":null}\n",
      "\n",
      "Got an answer\n",
      "\n",
      "## Question:\n",
      "You are a helpful asistent on general topics\n",
      "\n",
      "## Answer:\n",
      "It seems like you didn't ask any specific question. If you have any topic or question, feel free to ask and I will be happy to help!\n",
      "\n",
      "\n",
      "\n",
      "## Question:\n",
      "How does the saying go like the whole is more than the individual parts?\n",
      "\n",
      "## Answer:\n",
      "The saying you're referring to is \"The whole is greater than the sum of its parts.\" This phrase means that the overall value, quality, or function of a system, group, or entity is greater than the combined values, qualities, or functions of its individual components. It emphasizes the importance of understanding and appreciating the interconnectedness and synergy within a whole, rather than just focusing on the individual parts.\n",
      "\n",
      "\n"
     ]
    }
   ],
   "source": [
    "let conversation =\n",
    "    \"You are a helpful asistent on general topics\"\n",
    "    |> init Ollama.Models.``openchat:7b``\n",
    "    >>? \"\"\"\n",
    "    How does the saying go like the whole is more than the individual parts?\n",
    "    \"\"\"\n",
    "    |> fun conv -> \n",
    "        conv |> Ollama.Conversation.print\n",
    "        conv"
   ]
  },
  {
   "cell_type": "code",
   "execution_count": 4,
   "metadata": {
    "dotnet_interactive": {
     "language": "fsharp"
    },
    "polyglot_notebook": {
     "kernelName": "fsharp"
    },
    "vscode": {
     "languageId": "polyglot-notebook"
    }
   },
   "outputs": [
    {
     "name": "stdout",
     "output_type": "stream",
     "text": [
      "\n",
      "## Question:\n",
      "You are a helpful asistent on general topics\n",
      "\n",
      "## Answer:\n",
      "It seems like you didn't ask any specific question. If you have any topic or question, feel free to ask and I will be happy to help!\n",
      "\n",
      "\n",
      "\n",
      "## Question:\n",
      "How does the saying go like the whole is more than the individual parts?\n",
      "\n",
      "## Answer:\n",
      "The saying you're referring to is \"The whole is greater than the sum of its parts.\" This phrase means that the overall value, quality, or function of a system, group, or entity is greater than the combined values, qualities, or functions of its individual components. It emphasizes the importance of understanding and appreciating the interconnectedness and synergy within a whole, rather than just focusing on the individual parts.\n",
      "\n",
      "\n",
      "\n",
      "## Question:\n",
      "That would mean 1 + 1 could be ?\n",
      "\n",
      "## Answer:\n",
      "The saying \"the whole is more than the sum of its parts\" means that the combination of elements in a whole can create something greater or different from what the individual elements are on their own. In the case of 1 + 1, it would simply equal 2. However, if you were to apply this concept to other contexts, such as teamwork or synergy, the whole could indeed be more than just the sum of its parts.\n",
      "\n",
      "\n",
      "\n",
      "## Question:\n",
      "It seems the answer was not correct because: the answer should include the possibility of a '1 + 1 could be 3'\n",
      "Can you try again answering?\n",
      "\n",
      "That would mean 1 + 1 could be ?\n",
      "\n",
      "## Answer:\n",
      "Apologies for the confusion earlier. The saying \"the whole is more than the individual parts\" implies that the combination of elements creates a result greater than the sum of its individual components. In the context of your question, if we consider the number 1 as an element, then adding two 1s together would indeed result in a value greater than their individual sum:\n",
      "\n",
      "1 + 1 = 2\n",
      "\n",
      "However, if you are referring to the concept of synergy or the whole being greater than the sum of its parts, it could be interpreted as:\n",
      "\n",
      "1 + 1 = 3 (when considering synergistic effects)\n",
      "\n",
      "\n"
     ]
    }
   ],
   "source": [
    "conversation\n",
    ">>! (\"\"\"\n",
    "That would mean 1 + 1 could be ?\n",
    "\"\"\" |> Ollama.Message.userWithValidator validator)\n",
    "|> Ollama.Conversation.print"
   ]
  }
 ],
 "metadata": {
  "language_info": {
   "name": "python"
  }
 },
 "nbformat": 4,
 "nbformat_minor": 2
}
