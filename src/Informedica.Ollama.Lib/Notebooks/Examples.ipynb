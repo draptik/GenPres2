#!meta

{"kernelInfo":{"defaultKernelName":"csharp","items":[{"aliases":[],"name":"csharp"}]}}

#!markdown

# Ollama Lib Examples

#!fsharp

#load "load.fsx"

open Informedica.Ollama.Lib
open Ollama.Operators

#!markdown

## Ask the hello world question

#!fsharp

"You are a helpful assistant"
|> init Ollama.Models.``openchat:7b``
>>? "Why is the sky blue?"
|> Ollama.Conversation.print
