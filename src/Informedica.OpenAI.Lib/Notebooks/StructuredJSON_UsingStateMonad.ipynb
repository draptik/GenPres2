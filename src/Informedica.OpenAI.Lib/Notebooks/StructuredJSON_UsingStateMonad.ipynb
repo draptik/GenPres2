{
 "cells": [
  {
   "cell_type": "markdown",
   "metadata": {},
   "source": [
    "# Getting Structured Information with Validation using a State Monad\n",
    "\n",
    "In this notebook structured information will be extracted from a free text. The structured information can than be validated. If validation fails, another attempt is made to get a valid answer. If this fails again, the answer is ignored. To keep track of the list of messages, i.e. the conversation with the LLM, a state monad is used. \n",
    "\n",
    "If you want to know what a state monad is and how it works, you should see the execellent blog and video by [Scott Wlaschin](https://fsharpforfunandprofit.com/posts/monadster/)."
   ]
  },
  {
   "cell_type": "markdown",
   "metadata": {},
   "source": [
    "## First setup the libraries and open up the namespaces"
   ]
  },
  {
   "cell_type": "code",
   "execution_count": 1,
   "metadata": {
    "dotnet_interactive": {
     "language": "fsharp"
    },
    "polyglot_notebook": {
     "kernelName": "fsharp"
    }
   },
   "outputs": [
    {
     "data": {
      "text/html": [
       "<div><div></div><div></div><div><strong>Installed Packages</strong><ul><li><span>FSharpPlus, 1.6.1</span></li><li><span>Newtonsoft.Json, 13.0.3</span></li><li><span>NJsonSchema, 11.0.0</span></li></ul></div></div>"
      ]
     },
     "metadata": {},
     "output_type": "display_data"
    }
   ],
   "source": [
    "#r \"nuget: FSharpPlus\"\n",
    "#r \"nuget: Newtonsoft.Json\"\n",
    "#r \"nuget: NJsonSchema\"\n",
    "\n",
    "#r \"../../Informedica.Utils.Lib/bin/Debug/net8.0/Informedica.Utils.Lib.dll\"\n",
    "\n",
    "#load \"../Types.fs\"\n",
    "#load \"../Utils.fs\"\n",
    "#load \"../Texts.fs\"\n",
    "#load \"../Prompts.fs\"\n",
    "#load \"../Message.fs\"\n",
    "#load \"../OpenAI.fs\"\n",
    "#load \"../Fireworks.fs\"\n",
    "#load \"../Ollama.fs\"\n",
    "\n",
    "\n",
    "open Newtonsoft.Json\n",
    "\n",
    "open FSharpPlus\n",
    "open FSharpPlus.Data\n",
    "open Informedica.Utils.Lib.BCL\n",
    "\n",
    "open Informedica.OpenAI.Lib"
   ]
  },
  {
   "cell_type": "markdown",
   "metadata": {},
   "source": [
    "## Adjust the model settings"
   ]
  },
  {
   "cell_type": "code",
   "execution_count": 2,
   "metadata": {
    "dotnet_interactive": {
     "language": "fsharp"
    },
    "polyglot_notebook": {
     "kernelName": "fsharp"
    }
   },
   "outputs": [],
   "source": [
    "Ollama.options.temperature <- 0.\n",
    "Ollama.options.penalize_newline <- true\n",
    "Ollama.options.top_k <- 10\n",
    "Ollama.options.top_p <- 0.95"
   ]
  },
  {
   "cell_type": "markdown",
   "metadata": {},
   "source": [
    "## An initial system prompt and a generic method to extract structured data\n",
    "\n",
    "The `systemMsg` is used to prime the LLM as a medical expert that can extract structured information from a free text. \n",
    "\n",
    "The `extract` function uses a model (the name of the LLM) and a initial structure allong with the request msg to extract information from a free text as JSON. The function uses a \n",
    "monad computational expression. This allows usage of a `State` monad that keeps track of the state, i.e. the list of messages, i.e. the \"conversation\" with \n",
    "the LLM."
   ]
  },
  {
   "cell_type": "code",
   "execution_count": 3,
   "metadata": {
    "dotnet_interactive": {
     "language": "fsharp"
    },
    "polyglot_notebook": {
     "kernelName": "fsharp"
    }
   },
   "outputs": [],
   "source": [
    "let systemMsg text = [ text |> Texts.systemDoseQuantityExpert2 |> Message.system ]\n",
    "\n",
    "\n",
    "let inline extract (model: string) zero msg =\n",
    "    monad {\n",
    "        // get the current list of messages\n",
    "        let! msgs = State.get\n",
    "        // get the structured extraction allong with\n",
    "        // the updated list of messages\n",
    "        let msgs, res =\n",
    "            msg\n",
    "            |> Ollama.validate2\n",
    "                model\n",
    "                msgs\n",
    "            |> Async.RunSynchronously\n",
    "            |> function\n",
    "                | Ok (result, msgs) -> msgs, result\n",
    "                | Error (_, msgs)   -> msgs, zero\n",
    "        // refresh the state with the updated list of messages\n",
    "        do! State.put msgs\n",
    "        // return the structured extraction\n",
    "        return res\n",
    "    }"
   ]
  },
  {
   "cell_type": "code",
   "execution_count": 4,
   "metadata": {
    "dotnet_interactive": {
     "language": "fsharp"
    },
    "polyglot_notebook": {
     "kernelName": "fsharp"
    }
   },
   "outputs": [],
   "source": [
    "let unitValidator<'Unit> text get validUnits s =\n",
    "    let isValidUnit s =\n",
    "        if validUnits |> List.isEmpty then true\n",
    "        else\n",
    "            validUnits\n",
    "            |> List.exists (String.equalsCapInsens s)\n",
    "    try\n",
    "        let un = JsonConvert.DeserializeObject<'Unit>(s)\n",
    "        match un |> get |> String.split \"/\" with\n",
    "        | [u] when u |> isValidUnit -> \n",
    "            if text |> String.containsCapsInsens u then Ok s\n",
    "            else\n",
    "                $\"{u} is not mentionned in the text\"\n",
    "                |> Error \n",
    "        | _ -> \n",
    "            if validUnits |> List.isEmpty then $\"{s} is not a valid unit, the unit should not contain '/'\"\n",
    "            else\n",
    "                $\"\"\"\n",
    "{s} is not a valid unit, the unit should not contain '/' and the unit should be one of the following:\n",
    "{validUnits |> String.concat \", \"}\n",
    "\"\"\"\n",
    "            |> Error\n",
    "    with\n",
    "    | e ->\n",
    "        e.ToString()\n",
    "        |> Error"
   ]
  },
  {
   "cell_type": "markdown",
   "metadata": {},
   "source": [
    "## Functions that extract different pieces of structured information\n",
    "\n",
    "Using the general extract function, specific functions can be created that extract small pieces of validated structured information. This allows breaking up a \n",
    "large task into smaller/simpler tasks for the LLM to execute. \n",
    "\n",
    "Each function has a `zero` structure, used when extraction fails as a fallback. Each extraction function also has a `validator`, a function that validates the \n",
    "extracted structure."
   ]
  },
  {
   "cell_type": "code",
   "execution_count": 5,
   "metadata": {
    "dotnet_interactive": {
     "language": "fsharp"
    },
    "polyglot_notebook": {
     "kernelName": "fsharp"
    }
   },
   "outputs": [],
   "source": [
    "let extractSubstanceUnit model text =\n",
    "    let zero = {| substanceUnit = \"\" |}\n",
    "    let validator = unitValidator text (fun (u: {| substanceUnit: string |}) -> u.substanceUnit)  []\n",
    "\n",
    "    $\"\"\"\n",
    "Use Schema {\"{| substanceUnit: string |}\" |> Utils.anonymousTypeStringToJson}\n",
    "Extract the unit of measurement for the medication, the substance unit in the text between '''\n",
    "\n",
    "Examples:\n",
    "- mg/kg/dag: \"{{ substanceUnit = \"mg\" }}\"\n",
    "- mg/kg: \"{{ substanceUnit = \"mg\" }}\"\n",
    "- g/m2/dag: \"{{ substanceUnit = \"g\" }}\"\n",
    "- IE/m2: \"{{ substanceUnit = \"IE\" }}\"\n",
    "\n",
    "\n",
    "Respond in JSON\n",
    "\"\"\"\n",
    "    |> Message.userWithValidator validator\n",
    "    |> extract model zero\n",
    "\n",
    "\n",
    "let extractAdjustUnit model text =\n",
    "    let zero = {| adjustUnit = \"\" |}\n",
    "    let validator = \n",
    "        [\"kg\"; \"m2\"; \"mˆ2\"]\n",
    "        |> unitValidator text (fun (u: {| adjustUnit: string |}) -> u.adjustUnit)\n",
    "\n",
    "    $\"\"\"\n",
    "Use Schema {\"{| adjustUnit: string |}\" |> Utils.anonymousTypeStringToJson}\n",
    "Extract the unit by which a medication dose is adjusted, the patient weight or body surfacd area, the adjust unit in the text between '''\n",
    "\n",
    "Examples:\n",
    "- mg/kg/dag: \"{{ adjustUnit = \"mg\" }}\"\n",
    "- mg/kg: \"{{ adjustUnit = \"mg\" }}\"\n",
    "- mg/m2/dag: \"{{ adjustUnit = \"m2\" }}\"\n",
    "- mg/m2: \"{{ adjustUnit = \"m2\" }}\"\n",
    "\n",
    "Respond in JSON\n",
    "\"\"\"\n",
    "    |> Message.userWithValidator validator\n",
    "    |> extract model zero\n",
    "\n",
    "\n",
    "let extractTimeUnit model text =\n",
    "    let zero = {| timeUnit = \"\" |}\n",
    "    let validator = \n",
    "        [\n",
    "            \"dag\"\n",
    "            \"week\"\n",
    "            \"maand\"\n",
    "        ]\n",
    "        |> unitValidator text (fun (u: {| timeUnit: string |}) -> u.timeUnit)\n",
    "\n",
    "    $\"\"\"\n",
    "Use Schema {\"{| timeUnit: string |}\" |> Utils.anonymousTypeStringToJson}\n",
    "Extract time unit in the text between '''\n",
    "\n",
    "\n",
    "Examples:\n",
    "- mg/kg/dag: \"{{ timeUnit = \"dag\" }}\"\n",
    "- mg/kg: \"{{ timeUnit = \"\" }}\"\n",
    "- mg/m2/week: \"{{ timeUnit = \"week\" }}\"\n",
    "- mg/2 dagen: \"{{ timeUnit = \"2 dagen\" }}\"\n",
    "\n",
    "\n",
    "Respond in JSON\n",
    "\"\"\"\n",
    "    |> Message.userWithValidator validator\n",
    "    |> extract model zero"
   ]
  },
  {
   "cell_type": "markdown",
   "metadata": {},
   "source": [
    "## Combine the extractions to create a larger structured extraction\n",
    "\n",
    "The seperate extraction functions can be combined to create a larger extraction structure. Using the monad computational expression, the state, i.e. the conversation (list of messages) will automatically passed around so the LLM gets the \"full picture\" and hopefully this improves the extraction process and the validity of the extractions."
   ]
  },
  {
   "cell_type": "code",
   "execution_count": 6,
   "metadata": {
    "dotnet_interactive": {
     "language": "fsharp"
    },
    "polyglot_notebook": {
     "kernelName": "fsharp"
    }
   },
   "outputs": [],
   "source": [
    "let createDoseUnits model text =\n",
    "    monad {\n",
    "        let! substanceUnit = extractSubstanceUnit model text\n",
    "        let! adjustUnit = extractAdjustUnit model text\n",
    "        let! timeUnit = extractTimeUnit model text\n",
    "\n",
    "        return\n",
    "            {|\n",
    "                substanceUnit = substanceUnit.substanceUnit\n",
    "                adjustUnit = adjustUnit.adjustUnit\n",
    "                timeUnit = timeUnit.timeUnit\n",
    "            |}\n",
    "    }"
   ]
  },
  {
   "cell_type": "markdown",
   "metadata": {},
   "source": [
    "## Finally the State monad can run the whole proces of extraction\n",
    "\n",
    "Running the extraction proces returns the extracted structure and the full list of messages."
   ]
  },
  {
   "cell_type": "code",
   "execution_count": 12,
   "metadata": {
    "dotnet_interactive": {
     "language": "fsharp"
    },
    "polyglot_notebook": {
     "kernelName": "fsharp"
    }
   },
   "outputs": [
    {
     "name": "stdout",
     "output_type": "stream",
     "text": [
      "## The final exctracted structure:\n",
      "{ adjustUnit = \"kg\"\n",
      "  substanceUnit = \"mg\"\n",
      "  timeUnit = \"dag\" }\n",
      "\n",
      "\n",
      "## The full conversation\n",
      "\n",
      "## System:\n",
      "You are an expert on medication prescribing, preparation and administration. You will give\n",
      "exact answers. If there is no possible answer return an empty string.\n",
      "You have to answer questions about a free text between ''' that describes the dosing of a medication.\n",
      "You will be asked to extract structured information from the following text:\n",
      "\n",
      "'''\n",
      "alprazolam\n",
      "6 jaar tot 18 jaar Startdosering: 0,125 mg/dag, éénmalig. Onderhoudsdosering: Op geleide van klinisch beeld verhogen met stappen van 0,125-0,25 mg/dosis tot max 0,05 mg/kg/dag in 3 doses. Max: 3 mg/dag. Advies inname/toediening: De dagdosis indien mogelijk verdelen over 3 doses.Bij plotselinge extreme slapeloosheid: alleen voor de nacht innemen; dosering op geleide van effect ophogen tot max 0,05 mg/kg, maar niet hoger dan 3 mg/dag.De effectiviteit bij de behandeling van acute angst is discutabel.\n",
      "'''\n",
      "\n",
      "ONLY respond if the response is present in the text. If the response cannot be extracted\n",
      "respond with an empty string.\n",
      "Respond in JSON\n",
      "\n",
      "\n",
      "## Question:\n",
      "Use Schema { substanceUnit: string }\n",
      "Extract the unit of measurement for the medication, the substance unit in the text between '''\n",
      "\n",
      "Examples:\n",
      "- mg/kg/dag: \"{ substanceUnit = \"mg\" }\"\n",
      "- mg/kg: \"{ substanceUnit = \"mg\" }\"\n",
      "- g/m2/dag: \"{ substanceUnit = \"g\" }\"\n",
      "- IE/m2: \"{ substanceUnit = \"IE\" }\"\n",
      "\n",
      "\n",
      "Respond in JSON\n",
      "\n",
      "\n",
      "## Answer:\n",
      "{\"substanceUnit\":\"mg\"}\n",
      "\n",
      "\n",
      "## Question:\n",
      "Use Schema { adjustUnit: string }\n",
      "Extract the unit by which a medication dose is adjusted, the patient weight or body surfacd area, the adjust unit in the text between '''\n",
      "\n",
      "Examples:\n",
      "- mg/kg/dag: \"{ adjustUnit = \"mg\" }\"\n",
      "- mg/kg: \"{ adjustUnit = \"mg\" }\"\n",
      "- mg/m2/dag: \"{ adjustUnit = \"m2\" }\"\n",
      "- mg/m2: \"{ adjustUnit = \"m2\" }\"\n",
      "\n",
      "Respond in JSON\n",
      "\n",
      "\n",
      "## Answer:\n",
      "{\"adjustUnit\":\"mg/kg\"}\n",
      "\n",
      "\n",
      "## Question:\n",
      "The answer: {\"adjustUnit\":\"mg/kg\"} was not correct because of \n",
      "{\"adjustUnit\":\"mg/kg\"} is not a valid unit, the unit should not contain '/' and the unit should be one of the following:\n",
      "kg, m2, mˆ2\n",
      ". Please try again answering:\n",
      "\n",
      "\n",
      "Use Schema { adjustUnit: string }\n",
      "Extract the unit by which a medication dose is adjusted, the patient weight or body surfacd area, the adjust unit in the text between '''\n",
      "\n",
      "Examples:\n",
      "- mg/kg/dag: \"{ adjustUnit = \"mg\" }\"\n",
      "- mg/kg: \"{ adjustUnit = \"mg\" }\"\n",
      "- mg/m2/dag: \"{ adjustUnit = \"m2\" }\"\n",
      "- mg/m2: \"{ adjustUnit = \"m2\" }\"\n",
      "\n",
      "Respond in JSON\n",
      "\n",
      "\n",
      "## Answer:\n",
      "{\"adjustUnit\":\"kg\"}\n",
      "\n",
      "\n",
      "## Question:\n",
      "Use Schema { timeUnit: string }\n",
      "Extract time unit in the text between '''\n",
      "\n",
      "\n",
      "Examples:\n",
      "- mg/kg/dag: \"{ timeUnit = \"dag\" }\"\n",
      "- mg/kg: \"{ timeUnit = \"\" }\"\n",
      "- mg/m2/week: \"{ timeUnit = \"week\" }\"\n",
      "- mg/2 dagen: \"{ timeUnit = \"2 dagen\" }\"\n",
      "\n",
      "\n",
      "Respond in JSON\n",
      "\n",
      "\n",
      "## Answer:\n",
      "{\"timeUnit\":\"dag\"}\n",
      "\n"
     ]
    }
   ],
   "source": [
    "let un, msgs =\n",
    "    let text = Texts.testTexts[0]\n",
    "    State.run\n",
    "        (createDoseUnits Ollama.Models.llama2 text)\n",
    "        (systemMsg text)\n",
    "\n",
    "printfn $\"## The final exctracted structure:\\n{un}\\n\\n\"\n",
    "\n",
    "printfn \"## The full conversation\"\n",
    "msgs\n",
    "|> List.iter Message.print"
   ]
  },
  {
   "cell_type": "markdown",
   "metadata": {},
   "source": [
    "## Another attempt using a different LLM"
   ]
  },
  {
   "cell_type": "code",
   "execution_count": 11,
   "metadata": {
    "dotnet_interactive": {
     "language": "fsharp"
    },
    "polyglot_notebook": {
     "kernelName": "fsharp"
    }
   },
   "outputs": [
    {
     "name": "stdout",
     "output_type": "stream",
     "text": [
      "## The final exctracted structure:\n",
      "{ adjustUnit = \"kg\"\n",
      "  substanceUnit = \"mg\"\n",
      "  timeUnit = \"dag\" }\n",
      "\n",
      "\n",
      "## The full conversation\n",
      "\n",
      "## System:\n",
      "You are an expert on medication prescribing, preparation and administration. You will give\n",
      "exact answers. If there is no possible answer return an empty string.\n",
      "You have to answer questions about a free text between ''' that describes the dosing of a medication.\n",
      "You will be asked to extract structured information from the following text:\n",
      "\n",
      "'''\n",
      "alprazolam\n",
      "6 jaar tot 18 jaar Startdosering: 0,125 mg/dag, éénmalig. Onderhoudsdosering: Op geleide van klinisch beeld verhogen met stappen van 0,125-0,25 mg/dosis tot max 0,05 mg/kg/dag in 3 doses. Max: 3 mg/dag. Advies inname/toediening: De dagdosis indien mogelijk verdelen over 3 doses.Bij plotselinge extreme slapeloosheid: alleen voor de nacht innemen; dosering op geleide van effect ophogen tot max 0,05 mg/kg, maar niet hoger dan 3 mg/dag.De effectiviteit bij de behandeling van acute angst is discutabel.\n",
      "'''\n",
      "\n",
      "ONLY respond if the response is present in the text. If the response cannot be extracted\n",
      "respond with an empty string.\n",
      "Respond in JSON\n",
      "\n",
      "\n",
      "## Question:\n",
      "Use Schema { substanceUnit: string }\n",
      "Extract the unit of measurement for the medication, the substance unit in the text between '''\n",
      "\n",
      "Examples:\n",
      "- mg/kg/dag: \"{ substanceUnit = \"mg\" }\"\n",
      "- mg/kg: \"{ substanceUnit = \"mg\" }\"\n",
      "- g/m2/dag: \"{ substanceUnit = \"g\" }\"\n",
      "- IE/m2: \"{ substanceUnit = \"IE\" }\"\n",
      "\n",
      "\n",
      "Respond in JSON\n",
      "\n",
      "\n",
      "## Answer:\n",
      "{\"substanceUnit\":\"mg\"}\n",
      "\n",
      "\n",
      "## Question:\n",
      "Use Schema { adjustUnit: string }\n",
      "Extract the unit by which a medication dose is adjusted, the patient weight or body surfacd area, the adjust unit in the text between '''\n",
      "\n",
      "Examples:\n",
      "- mg/kg/dag: \"{ adjustUnit = \"mg\" }\"\n",
      "- mg/kg: \"{ adjustUnit = \"mg\" }\"\n",
      "- mg/m2/dag: \"{ adjustUnit = \"m2\" }\"\n",
      "- mg/m2: \"{ adjustUnit = \"m2\" }\"\n",
      "\n",
      "Respond in JSON\n",
      "\n",
      "\n",
      "## Answer:\n",
      "{\"adjustUnit\":\"kg\"}\n",
      "\n",
      "\n",
      "## Question:\n",
      "Use Schema { timeUnit: string }\n",
      "Extract time unit in the text between '''\n",
      "\n",
      "\n",
      "Examples:\n",
      "- mg/kg/dag: \"{ timeUnit = \"dag\" }\"\n",
      "- mg/kg: \"{ timeUnit = \"\" }\"\n",
      "- mg/m2/week: \"{ timeUnit = \"week\" }\"\n",
      "- mg/2 dagen: \"{ timeUnit = \"2 dagen\" }\"\n",
      "\n",
      "\n",
      "Respond in JSON\n",
      "\n",
      "\n",
      "## Answer:\n",
      "{\"timeUnit\":\"dag\"}\n",
      "\n"
     ]
    }
   ],
   "source": [
    "let un, msgs =\n",
    "    let text = Texts.testTexts[0]\n",
    "    State.run\n",
    "        (createDoseUnits Ollama.Models.openhermes text)\n",
    "        (systemMsg text)\n",
    "\n",
    "printfn $\"## The final exctracted structure:\\n{un}\\n\\n\"\n",
    "\n",
    "printfn \"## The full conversation\"\n",
    "msgs\n",
    "|> List.iter Message.print"
   ]
  },
  {
   "cell_type": "markdown",
   "metadata": {},
   "source": [
    "## Testing different LLMs"
   ]
  },
  {
   "cell_type": "code",
   "execution_count": 7,
   "metadata": {
    "dotnet_interactive": {
     "language": "fsharp"
    },
    "polyglot_notebook": {
     "kernelName": "fsharp"
    }
   },
   "outputs": [],
   "source": [
    "let test model =\n",
    "    [\n",
    "        for (text, exp) in Texts.testUnitTexts do\n",
    "            let un, _ =\n",
    "                State.run\n",
    "                    (createDoseUnits model text)\n",
    "                    (systemMsg text)\n",
    "            if un = exp then 1 else 0\n",
    "    ]\n",
    "    |> List.sum"
   ]
  },
  {
   "cell_type": "markdown",
   "metadata": {},
   "source": [
    "Run the tests:"
   ]
  },
  {
   "cell_type": "code",
   "execution_count": 9,
   "metadata": {
    "dotnet_interactive": {
     "language": "fsharp"
    },
    "polyglot_notebook": {
     "kernelName": "fsharp"
    }
   },
   "outputs": [
    {
     "name": "stdout",
     "output_type": "stream",
     "text": [
      "- Testing: llama2: score: 1\n",
      "- Testing: gemma: score: 0\n",
      "- Testing: openhermes: score: 4\n",
      "- Testing: mistral: score: 4\n",
      "- Testing: llama-pro: score: 1\n",
      "- Testing: openchat:7b: score: 4\n",
      "- Testing: llama2:13b-chat: score: 2\n",
      "\n",
      "\n",
      "## And the winner is: openhermes with a high score: 4 from 6\n"
     ]
    }
   ],
   "source": [
    "[\n",
    "    Ollama.Models.llama2\n",
    "    Ollama.Models.gemma\n",
    "    Ollama.Models.openhermes\n",
    "    Ollama.Models.mistral\n",
    "    Ollama.Models.``llama-pro``\n",
    "    Ollama.Models.``openchat:7b``\n",
    "    Ollama.Models.``llama2:13b-chat``\n",
    "]\n",
    "|> List.map (fun model -> \n",
    "    printf $\"- Testing: {model}: \"\n",
    "    let s = model |> test\n",
    "    printfn $\"score: {s}\"\n",
    "    model, s\n",
    ")\n",
    "|> List.maxBy snd\n",
    "|> fun (m, s) -> printfn $\"\\n\\n## And the winner is: {m} with a high score: {s} from {Texts.testUnitTexts |> List.length}\""
   ]
  }
 ],
 "metadata": {
  "kernelspec": {
   "display_name": ".NET (C#)",
   "language": "C#",
   "name": ".net-csharp"
  },
  "language_info": {
   "name": "polyglot-notebook"
  },
  "polyglot_notebook": {
   "kernelInfo": {
    "defaultKernelName": "csharp",
    "items": [
     {
      "aliases": [],
      "name": "csharp"
     },
     {
      "aliases": [],
      "languageName": "fsharp",
      "name": "fsharp"
     }
    ]
   }
  }
 },
 "nbformat": 4,
 "nbformat_minor": 2
}
