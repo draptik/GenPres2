{
 "cells": [
  {
   "cell_type": "markdown",
   "metadata": {},
   "source": [
    "# Getting Structured Information with Validation using a State Monad\n",
    "\n",
    "In this notebook, we will focus on extracting structured information from free text. Once this information is obtained, it undergoes a validation process. Should the validation not succeed, the system will make another attempt to derive a valid response. A second failure results in the answer being disregarded. To efficiently monitor the series of messages, or the dialogue with the LLM, we employ a state monad.\n",
    "\n",
    "For those curious about what a state monad is and its operational mechanics, I highly recommend exploring the exceptional resources provided by Scott Wlaschin, which include an informative blog and an engaging video. You can find these resources at [Scott Wlaschin's website](https://fsharpforfunandprofit.com/posts/monadster/)."
   ]
  },
  {
   "cell_type": "markdown",
   "metadata": {},
   "source": [
    "## First setup the libraries and open up the namespaces"
   ]
  },
  {
   "cell_type": "code",
   "execution_count": 1,
   "metadata": {
    "dotnet_interactive": {
     "language": "fsharp"
    },
    "polyglot_notebook": {
     "kernelName": "fsharp"
    }
   },
   "outputs": [],
   "source": [
    "#load \"load.fsx\"\n",
    "\n",
    "open Newtonsoft.Json\n",
    "\n",
    "open FSharpPlus\n",
    "open FSharpPlus.Data\n",
    "open Informedica.Utils.Lib.BCL\n",
    "\n",
    "open Informedica.OpenAI.Lib"
   ]
  },
  {
   "cell_type": "markdown",
   "metadata": {},
   "source": [
    "## Adjust the model settings"
   ]
  },
  {
   "cell_type": "markdown",
   "metadata": {},
   "source": [
    "In this notebook, adjustments to the model settings can be made to optimize the extraction of the most accurate information. It is important to note, however, that when employing JSON format for extraction, these adjustments may not significantly impact the outcome. The notable exception is the configuration of the seed, which enhances the reproducibility of the results. \n",
    "\n",
    "Please note, the validity of the statement about model settings not making much of a difference in JSON format extraction depends on the specific context and the model's design. Generally, model settings can affect how data is processed and interpreted, regardless of the output format. The statement about the seed is accurate, as setting a specific seed value ensures consistent results across multiple runs, which is critical for reproducibility."
   ]
  },
  {
   "cell_type": "code",
   "execution_count": 2,
   "metadata": {
    "dotnet_interactive": {
     "language": "fsharp"
    },
    "polyglot_notebook": {
     "kernelName": "fsharp"
    }
   },
   "outputs": [],
   "source": [
    "Ollama.options.temperature <- 0.\n",
    "Ollama.options.penalize_newline <- true\n",
    "Ollama.options.top_k <- 10\n",
    "Ollama.options.top_p <- 0.95\n",
    "Ollama.options.seed <- 101"
   ]
  },
  {
   "cell_type": "markdown",
   "metadata": {},
   "source": [
    "## An initial system prompt and a generic method to extract structured data\n",
    "\n",
    "In this notebook, the `systemMsg` variable primes the Large Language Model (LLM) to function as a medical expert capable of extracting structured information from free text.\n",
    "\n",
    "The `extract` function employs a model (specified by the name of the LLM) and an initial structure, along with the request message, to extract information from free text and output it as JSON. This function utilizes a monad computational expression, enabling the use of a `State` monad. The `State` monad is instrumental in tracking the state of the system, which, in this context, refers to maintaining a record of the messages exchanged during the \"conversation\" with the LLM."
   ]
  },
  {
   "cell_type": "code",
   "execution_count": 3,
   "metadata": {
    "dotnet_interactive": {
     "language": "fsharp"
    },
    "polyglot_notebook": {
     "kernelName": "fsharp"
    }
   },
   "outputs": [],
   "source": [
    "let systemMsg text = [ text |> Texts.systemDoseQuantityExpert2 |> Message.system ]\n",
    "\n",
    "\n",
    "let inline extract (model: string) zero msg =\n",
    "    monad {\n",
    "        // get the current list of messages\n",
    "        let! msgs = State.get\n",
    "        // get the structured extraction allong with\n",
    "        // the updated list of messages\n",
    "        let msgs, res =\n",
    "            msg\n",
    "            |> Ollama.validate2\n",
    "                model\n",
    "                msgs\n",
    "            |> Async.RunSynchronously\n",
    "            |> function\n",
    "                | Ok (result, msgs) -> msgs, result\n",
    "                | Error (_, msgs)   -> msgs, zero\n",
    "        // refresh the state with the updated list of messages\n",
    "        do! State.put msgs\n",
    "        // return the structured extraction\n",
    "        return res\n",
    "    }"
   ]
  },
  {
   "cell_type": "markdown",
   "metadata": {},
   "source": [
    "## A General Validation function to validate the LLM extraction\n",
    "\n",
    "A validation function can be used to check:\n",
    "\n",
    "- Whether the response can be deserialized as a valid extraction structure and\n",
    "- Validate the extracted structure"
   ]
  },
  {
   "cell_type": "code",
   "execution_count": 4,
   "metadata": {
    "dotnet_interactive": {
     "language": "fsharp"
    },
    "polyglot_notebook": {
     "kernelName": "fsharp"
    }
   },
   "outputs": [],
   "source": [
    "let unitValidator<'Unit> text get validUnits s =\n",
    "    let isValidUnit s =\n",
    "        if validUnits |> List.isEmpty then true\n",
    "        else\n",
    "            validUnits\n",
    "            |> List.exists (String.equalsCapInsens s)\n",
    "    try\n",
    "        let un = JsonConvert.DeserializeObject<'Unit>(s)\n",
    "        match un |> get |> String.split \"/\" with\n",
    "        | [u] when u |> isValidUnit -> \n",
    "            if text |> String.containsCapsInsens u then Ok s\n",
    "            else\n",
    "                $\"{u} is not mentionned in the text\"\n",
    "                |> Error \n",
    "        | _ -> \n",
    "            if validUnits |> List.isEmpty then $\"{s} is not a valid unit, the unit should not contain '/'\"\n",
    "            else\n",
    "                $\"\"\"\n",
    "{s} is not a valid unit, the unit should not contain '/' and the unit should be one of the following:\n",
    "{validUnits |> String.concat \", \"}\n",
    "\"\"\"\n",
    "            |> Error\n",
    "    with\n",
    "    | e ->\n",
    "        e.ToString()\n",
    "        |> Error"
   ]
  },
  {
   "cell_type": "markdown",
   "metadata": {},
   "source": [
    "## Functions that extract different pieces of structured information\n",
    "\n",
    "We can leverage the previous general extraction and validation functions to develop specific functions capable of isolating and validating small segments of structured information. This modular approach divides a large task into more manageable, simpler tasks for the LLM to process.\n",
    "\n",
    "Each specialized extraction function is associated with a `zero` structure. This `zero` structure serves as a fallback mechanism in instances where extraction fails. Additionally, each extraction function is complemented by a `validator`. This validator is a dedicated function responsible for assessing the integrity and accuracy of the extracted structured information."
   ]
  },
  {
   "cell_type": "code",
   "execution_count": 5,
   "metadata": {
    "dotnet_interactive": {
     "language": "fsharp"
    },
    "polyglot_notebook": {
     "kernelName": "fsharp"
    }
   },
   "outputs": [],
   "source": [
    "let extractSubstanceUnit model text =\n",
    "    let zero = {| substanceUnit = \"\" |}\n",
    "    let validator = unitValidator text (fun (u: {| substanceUnit: string |}) -> u.substanceUnit)  []\n",
    "\n",
    "    \"\"\"\n",
    "Use the provided schema to extract the unit of measurement (substance unit) from the medication dosage information contained in the text.\n",
    "Your answer should return a JSON string representing the extracted unit.\n",
    "\n",
    "Use schema: { substanceUnit: string }\n",
    "\n",
    "Examples of usage and expected output:\n",
    " - For \"mg/kg/dag\", return: \"{ \"substanceUnit\": \"mg\" }\"\n",
    " - For \"g/m2/dag\", return: \"{ \"substanceUnit\": \"g\" }\"\n",
    " - For \"IE/m2\", return: \"{ \"substanceUnit\": \"IE\" }\"\n",
    "\n",
    "Respond in JSON\n",
    "\"\"\"\n",
    "    |> Message.userWithValidator validator\n",
    "    |> extract model zero\n",
    "\n",
    "\n",
    "let extractAdjustUnit model text =\n",
    "    let zero = {| adjustUnit = \"\" |}\n",
    "    let validator = \n",
    "        [\"kg\"; \"m2\"; \"mˆ2\"]\n",
    "        |> unitValidator text (fun (u: {| adjustUnit: string |}) -> u.adjustUnit)\n",
    "\n",
    "    \"\"\"\n",
    "Use the provided schema to extract the unit by which a medication dose is adjusted, such as patient weight or body surface area, from the medication dosage information contained in the text.\n",
    "Your answer should return a JSON string representing the extracted adjustment unit.\n",
    "\n",
    "Use schema : { adjustUnit: string }\n",
    "\n",
    "Examples of usage and expected output:\n",
    "- For \"mg/kg/dag\", return: \"{ \"adjustUnit\": \"kg\" }\"\n",
    "- For \"mg/kg\", return: \"{ \"adjustUnit\": \"kg\" }\"\n",
    "- For \"mg/m2/dag\", return: \"{ \"adjustUnit\": \"m2\" }\"\n",
    "- For \"mg/m2\", return: \"{ \"adjustUnit\": \"m2\" }\"\n",
    "\n",
    "Respond in JSON\n",
    "\"\"\"\n",
    "    |> Message.userWithValidator validator\n",
    "    |> extract model zero\n",
    "\n",
    "\n",
    "let extractTimeUnit model text =\n",
    "    let zero = {| timeUnit = \"\" |}\n",
    "    let validator = \n",
    "        [\n",
    "            \"dag\"\n",
    "            \"week\"\n",
    "            \"maand\"\n",
    "        ]\n",
    "        |> unitValidator text (fun (u: {| timeUnit: string |}) -> u.timeUnit)\n",
    "\n",
    "    \"\"\"\n",
    "Use the provided schema to extract the time unit from the medication dosage information contained in the text.\n",
    "Your answer should return a JSON string representing the extracted time unit.\n",
    "\n",
    "Use schema : { timeUnit: string }\n",
    "\n",
    "Examples of usage and expected output:\n",
    "- For \"mg/kg/dag\", return: \"{ \"timeUnit\": \"dag\" }\"\n",
    "- For \"mg/kg\", return: \"{ \"timeUnit\": \"\" }\"\n",
    "- For \"mg/m2/week\", return: \"{ \"timeUnit\": \"week\" }\"\n",
    "- For \"mg/2 dagen\", return: \"{ \"timeUnit\": \"2 dagen\" }\"\n",
    "\n",
    "Respond in JSON\n",
    "\"\"\"\n",
    "    |> Message.userWithValidator validator\n",
    "    |> extract model zero"
   ]
  },
  {
   "cell_type": "markdown",
   "metadata": {},
   "source": [
    "## Combine the extractions to create a larger structured extraction\n",
    "\n",
    "The individual extraction functions can be integrated to form a comprehensive extraction structure. By utilizing the monad computational expression, the state—represented as the ongoing conversation (a list of messages)—is seamlessly propagated throughout the system. This mechanism ensures that the LLM has access to the \"full picture\" during its operation. The intent is that this holistic view will enhance the LLM's extraction capabilities, leading to improvements in both the process and the accuracy of the extracted information."
   ]
  },
  {
   "cell_type": "code",
   "execution_count": 6,
   "metadata": {
    "dotnet_interactive": {
     "language": "fsharp"
    },
    "polyglot_notebook": {
     "kernelName": "fsharp"
    }
   },
   "outputs": [],
   "source": [
    "let createDoseUnits model text =\n",
    "    monad {\n",
    "        let! substanceUnit = extractSubstanceUnit model text\n",
    "        let! adjustUnit = extractAdjustUnit model text\n",
    "        let! timeUnit = extractTimeUnit model text\n",
    "\n",
    "        return\n",
    "            {|\n",
    "                substanceUnit = substanceUnit.substanceUnit\n",
    "                adjustUnit = adjustUnit.adjustUnit\n",
    "                timeUnit = timeUnit.timeUnit\n",
    "            |}\n",
    "    }"
   ]
  },
  {
   "cell_type": "markdown",
   "metadata": {},
   "source": [
    "## Finally the State monad can run the whole proces of extraction\n",
    "\n",
    "Running the extraction proces returns the extracted structure and the full list of messages."
   ]
  },
  {
   "cell_type": "code",
   "execution_count": 7,
   "metadata": {
    "dotnet_interactive": {
     "language": "fsharp"
    },
    "polyglot_notebook": {
     "kernelName": "fsharp"
    }
   },
   "outputs": [
    {
     "name": "stdout",
     "output_type": "stream",
     "text": [
      "## The final exctracted structure:\n",
      "{ adjustUnit = \"\"\n",
      "  substanceUnit = \"mg\"\n",
      "  timeUnit = \"dag\" }\n",
      "\n",
      "\n",
      "## The full conversation\n",
      "\n",
      "## System:\n",
      "You are an expert on medication prescribing, preparation and administration. You will give\n",
      "exact answers. If there is no possible answer return an empty string.\n",
      "You have to answer questions about a free text between ''' that describes the dosing of a medication.\n",
      "You will be asked to extract structured information from the following text:\n",
      "\n",
      "'''\n",
      "amitriptyline\n",
      "6 jaar tot 18 jaar Startdosering: voor de nacht: 10 mg/dag in 1 dosisOnderhoudsdosering: langzaam ophogen met 10 mg/dag per 4-6 weken naar 10 - 30 mg/dag in 1 dosis. Max: 30 mg/dag. Behandeling met amitriptyline mag niet plotseling worden gestaakt vanwege het optreden van ontwenningsverschijnselen; de dosering moet geleidelijk worden verminderd.Uit de studie van Powers (2017) blijkt dat de werkzaamheid van amitriptyline bij migraine profylaxe niet effectiever is t.o.v. placebo. Desondanks menen experts dat in individuele gevallen behandeling met amitriptyline overwogen kan worden.\n",
      "'''\n",
      "\n",
      "ONLY respond if the response is present in the text. If the response cannot be extracted\n",
      "respond with an empty string.\n",
      "Respond in JSON\n",
      "\n",
      "\n",
      "## Question:\n",
      "Use the provided schema to extract the unit of measurement (substance unit) from the medication dosage information contained in the text.\n",
      "Your answer should return a JSON string representing the extracted unit.\n",
      "\n",
      "Use schema: { substanceUnit: string }\n",
      "\n",
      "Examples of usage and expected output:\n",
      " - For \"mg/kg/dag\", return: \"{ \"substanceUnit\": \"mg\" }\"\n",
      " - For \"g/m2/dag\", return: \"{ \"substanceUnit\": \"g\" }\"\n",
      " - For \"IE/m2\", return: \"{ \"substanceUnit\": \"IE\" }\"\n",
      "\n",
      "Respond in JSON\n",
      "\n",
      "\n",
      "## Answer:\n",
      "{\"substanceUnit\":\"mg\"}\n",
      "\n",
      "\n",
      "## Question:\n",
      "Use the provided schema to extract the unit by which a medication dose is adjusted, such as patient weight or body surface area, from the medication dosage information contained in the text.\n",
      "Your answer should return a JSON string representing the extracted adjustment unit.\n",
      "\n",
      "Use schema : { adjustUnit: string }\n",
      "\n",
      "Examples of usage and expected output:\n",
      "- For \"mg/kg/dag\", return: \"{ \"adjustUnit\": \"kg\" }\"\n",
      "- For \"mg/kg\", return: \"{ \"adjustUnit\": \"kg\" }\"\n",
      "- For \"mg/m2/dag\", return: \"{ \"adjustUnit\": \"m2\" }\"\n",
      "- For \"mg/m2\", return: \"{ \"adjustUnit\": \"m2\" }\"\n",
      "\n",
      "Respond in JSON\n",
      "\n",
      "\n",
      "## Answer:\n",
      "{\"adjustUnit\":null}\n",
      "\n",
      "\n",
      "## Question:\n",
      "The answer: |{\"adjustUnit\":null}| was not correct because of \n",
      "{\"adjustUnit\":null} is not a valid unit, the unit should not contain '/' and the unit should be one of the following:\n",
      "kg, m2, mˆ2\n",
      ". Please try again answering:\n",
      "\n",
      "\n",
      "Use the provided schema to extract the unit by which a medication dose is adjusted, such as patient weight or body surface area, from the medication dosage information contained in the text.\n",
      "Your answer should return a JSON string representing the extracted adjustment unit.\n",
      "\n",
      "Use schema : { adjustUnit: string }\n",
      "\n",
      "Examples of usage and expected output:\n",
      "- For \"mg/kg/dag\", return: \"{ \"adjustUnit\": \"kg\" }\"\n",
      "- For \"mg/kg\", return: \"{ \"adjustUnit\": \"kg\" }\"\n",
      "- For \"mg/m2/dag\", return: \"{ \"adjustUnit\": \"m2\" }\"\n",
      "- For \"mg/m2\", return: \"{ \"adjustUnit\": \"m2\" }\"\n",
      "\n",
      "Respond in JSON\n",
      "\n",
      "\n",
      "## Answer:\n",
      "{\"adjustUnit\":null}\n",
      "\n",
      "\n",
      "## Question:\n",
      "Use the provided schema to extract the time unit from the medication dosage information contained in the text.\n",
      "Your answer should return a JSON string representing the extracted time unit.\n",
      "\n",
      "Use schema : { timeUnit: string }\n",
      "\n",
      "Examples of usage and expected output:\n",
      "- For \"mg/kg/dag\", return: \"{ \"timeUnit\": \"dag\" }\"\n",
      "- For \"mg/kg\", return: \"{ \"timeUnit\": \"\" }\"\n",
      "- For \"mg/m2/week\", return: \"{ \"timeUnit\": \"week\" }\"\n",
      "- For \"mg/2 dagen\", return: \"{ \"timeUnit\": \"2 dagen\" }\"\n",
      "\n",
      "Respond in JSON\n",
      "\n",
      "\n",
      "## Answer:\n",
      "{\"timeUnit\":\"dag\"}\n",
      "\n"
     ]
    }
   ],
   "source": [
    "let un, msgs =\n",
    "    let text = Texts.testTexts[3]\n",
    "    State.run\n",
    "        (createDoseUnits \"gemma2\" text)\n",
    "        (systemMsg text)\n",
    "\n",
    "printfn $\"## The final exctracted structure:\\n{un}\\n\\n\"\n",
    "\n",
    "printfn \"## The full conversation\"\n",
    "msgs\n",
    "|> List.iter Message.print"
   ]
  },
  {
   "cell_type": "markdown",
   "metadata": {},
   "source": [
    "## Another attempt using a different LLM\n",
    "\n",
    "Different LLM models can be used to check the response on the same questions."
   ]
  },
  {
   "cell_type": "code",
   "execution_count": 9,
   "metadata": {
    "dotnet_interactive": {
     "language": "fsharp"
    },
    "polyglot_notebook": {
     "kernelName": "fsharp"
    }
   },
   "outputs": [
    {
     "name": "stdout",
     "output_type": "stream",
     "text": [
      "## The final exctracted structure:\n",
      "{ adjustUnit = \"kg\"\n",
      "  substanceUnit = \"mg\"\n",
      "  timeUnit = \"dag\" }\n",
      "\n",
      "\n",
      "## The full conversation\n",
      "\n",
      "## System:\n",
      "You are an expert on medication prescribing, preparation and administration. You will give\n",
      "exact answers. If there is no possible answer return an empty string.\n",
      "You have to answer questions about a free text between ''' that describes the dosing of a medication.\n",
      "You will be asked to extract structured information from the following text:\n",
      "\n",
      "'''\n",
      "alprazolam\n",
      "6 jaar tot 18 jaar Startdosering: 0,125 mg/dag, éénmalig. Onderhoudsdosering: Op geleide van klinisch beeld verhogen met stappen van 0,125-0,25 mg/dosis tot max 0,05 mg/kg/dag in 3 doses. Max: 3 mg/dag. Advies inname/toediening: De dagdosis indien mogelijk verdelen over 3 doses.Bij plotselinge extreme slapeloosheid: alleen voor de nacht innemen; dosering op geleide van effect ophogen tot max 0,05 mg/kg, maar niet hoger dan 3 mg/dag.De effectiviteit bij de behandeling van acute angst is discutabel.\n",
      "'''\n",
      "\n",
      "ONLY respond if the response is present in the text. If the response cannot be extracted\n",
      "respond with an empty string.\n",
      "Respond in JSON\n",
      "\n",
      "\n",
      "## Question:\n",
      "Use the provided schema to extract the unit of measurement (substance unit) from the medication dosage information contained in the text.\n",
      "Your answer should return a JSON string representing the extracted unit.\n",
      "\n",
      "Use schema: { substanceUnit: string }\n",
      "\n",
      "Examples of usage and expected output:\n",
      " - For \"mg/kg/dag\", return: \"{ \"substanceUnit\": \"mg\" }\"\n",
      " - For \"g/m2/dag\", return: \"{ \"substanceUnit\": \"g\" }\"\n",
      " - For \"IE/m2\", return: \"{ \"substanceUnit\": \"IE\" }\"\n",
      "\n",
      "Respond in JSON\n",
      "\n",
      "\n",
      "## Answer:\n",
      "{\"substanceUnit\":\"mg\"}\n",
      "\n",
      "\n",
      "## Question:\n",
      "Use the provided schema to extract the unit by which a medication dose is adjusted, such as patient weight or body surface area, from the medication dosage information contained in the text.\n",
      "Your answer should return a JSON string representing the extracted adjustment unit.\n",
      "\n",
      "Use schema : { adjustUnit: string }\n",
      "\n",
      "Examples of usage and expected output:\n",
      "- For \"mg/kg/dag\", return: \"{ \"adjustUnit\": \"kg\" }\"\n",
      "- For \"mg/kg\", return: \"{ \"adjustUnit\": \"kg\" }\"\n",
      "- For \"mg/m2/dag\", return: \"{ \"adjustUnit\": \"m2\" }\"\n",
      "- For \"mg/m2\", return: \"{ \"adjustUnit\": \"m2\" }\"\n",
      "\n",
      "Respond in JSON\n",
      "\n",
      "\n",
      "## Answer:\n",
      "{\"adjustUnit\":\"kg\"}\n",
      "\n",
      "\n",
      "## Question:\n",
      "Use the provided schema to extract the time unit from the medication dosage information contained in the text.\n",
      "Your answer should return a JSON string representing the extracted time unit.\n",
      "\n",
      "Use schema : { timeUnit: string }\n",
      "\n",
      "Examples of usage and expected output:\n",
      "- For \"mg/kg/dag\", return: \"{ \"timeUnit\": \"dag\" }\"\n",
      "- For \"mg/kg\", return: \"{ \"timeUnit\": \"\" }\"\n",
      "- For \"mg/m2/week\", return: \"{ \"timeUnit\": \"week\" }\"\n",
      "- For \"mg/2 dagen\", return: \"{ \"timeUnit\": \"2 dagen\" }\"\n",
      "\n",
      "Respond in JSON\n",
      "\n",
      "\n",
      "## Answer:\n",
      "{\"timeUnit\":\"dag\"}\n",
      "\n"
     ]
    }
   ],
   "source": [
    "let un, msgs =\n",
    "    let text = Texts.testTexts[0]\n",
    "    State.run\n",
    "        (createDoseUnits Ollama.Models.openhermes text)\n",
    "        (systemMsg text)\n",
    "\n",
    "printfn $\"## The final exctracted structure:\\n{un}\\n\\n\"\n",
    "\n",
    "printfn \"## The full conversation\"\n",
    "msgs\n",
    "|> List.iter Message.print"
   ]
  },
  {
   "cell_type": "markdown",
   "metadata": {},
   "source": [
    "## Testing different LLMs"
   ]
  },
  {
   "cell_type": "markdown",
   "metadata": {},
   "source": [
    "In this section, we introduce a test function that employs a specific LLM model to iterate over a collection of test texts, each paired with an anticipated outcome. The function performs extraction operations on the texts, outputting the results as JSON, which are then compared against the expected JSON outcomes. The effectiveness of this process is quantified through a success score, which tallies the number of instances where the extracted information precisely matches the expected results."
   ]
  },
  {
   "cell_type": "code",
   "execution_count": 10,
   "metadata": {
    "dotnet_interactive": {
     "language": "fsharp"
    },
    "polyglot_notebook": {
     "kernelName": "fsharp"
    }
   },
   "outputs": [],
   "source": [
    "let test model =\n",
    "    [\n",
    "        for (text, exp) in Texts.testUnitTexts do\n",
    "            let act, _ =\n",
    "                State.run\n",
    "                    (createDoseUnits model text)\n",
    "                    (systemMsg text)\n",
    "            if act = exp then 1 else 0\n",
    "            , (act, exp)\n",
    "            , text\n",
    "    ]"
   ]
  },
  {
   "cell_type": "markdown",
   "metadata": {},
   "source": [
    "Run the tests and see discover which model performs best."
   ]
  },
  {
   "cell_type": "code",
   "execution_count": 11,
   "metadata": {
    "dotnet_interactive": {
     "language": "fsharp"
    },
    "polyglot_notebook": {
     "kernelName": "fsharp"
    }
   },
   "outputs": [
    {
     "name": "stdout",
     "output_type": "stream",
     "text": [
      "- Testing: llama2: score: 4\n",
      "- Testing: openhermes: score: 5\n",
      "- Testing: mistral: score: 5\n",
      "- Testing: llama-pro: score: 5\n"
     ]
    }
   ],
   "source": [
    "let calcScore = List.sumBy (fun (s, _, _) -> s)\n",
    "\n",
    "let testResults =\n",
    "    [\n",
    "        Ollama.Models.llama2\n",
    "//        Ollama.Models.gemma\n",
    "        Ollama.Models.openhermes\n",
    "        Ollama.Models.mistral\n",
    "        Ollama.Models.``llama-pro``\n",
    "//        Ollama.Models.``openchat:7b``\n",
    "//        Ollama.Models.``llama2:13b-chat``\n",
    "    ]\n",
    "    |> List.map (fun model -> \n",
    "        printf $\"- Testing: {model}: \"\n",
    "        let s = model |> test\n",
    "        printfn $\"score: {s |> calcScore}\"\n",
    "        model, s\n",
    "    )"
   ]
  },
  {
   "cell_type": "code",
   "execution_count": 12,
   "metadata": {
    "dotnet_interactive": {
     "language": "fsharp"
    },
    "polyglot_notebook": {
     "kernelName": "fsharp"
    }
   },
   "outputs": [
    {
     "name": "stdout",
     "output_type": "stream",
     "text": [
      "\n",
      "\n",
      "## And the winner is: openhermes with a high score: 5 from 6\n",
      "## Score: 1\n",
      "## Text:\n",
      "\n",
      "aprepitant\n",
      "3 jaar tot 18 jaar en < 40 kg 2 maal per week 40 mg/dosis verdeeld over de week.\n",
      "\n",
      "## Score: 2\n",
      "## Text:\n",
      "\n",
      "aciclovir\n",
      "3 maanden tot 18 jaar 1.500 mg/m2/dag in 3 doses.Behandelduur: Herpes encefalitis: 14-21 dagen Varicella zoster: 7 dagen\n",
      "\n",
      "## Score: 4\n",
      "## Text:\n",
      "\n",
      "alprazolam\n",
      "6 jaar tot 18 jaar Startdosering: 0,125 mg/dag, éénmalig. Onderhoudsdosering: Op geleide van klinisch beeld verhogen met stappen van 0,125-0,25 mg/dosis tot max 0,05 mg/kg/dag in 3 doses. Max: 3 mg/dag. Advies inname/toediening: De dagdosis indien mogelijk verdelen over 3 doses.Bij plotselinge extreme slapeloosheid: alleen voor de nacht innemen; dosering op geleide van effect ophogen tot max 0,05 mg/kg, maar niet hoger dan 3 mg/dag.De effectiviteit bij de behandeling van acute angst is discutabel.\n",
      "\n",
      "## Score: 4\n",
      "## Text:\n",
      "\n",
      "acetylsalicylzuur\n",
      "1 maand tot 18 jaar Startdosering:Acetylsalicylzuur: 30 - 50 mg/kg/dag in 3 - 4 doses. Max: 3.000 mg/dag.\n",
      "\n",
      "## Score: 4\n",
      "## Text:\n",
      "\n",
      "paracetamol\n",
      "Oraal: Bij milde tot matige pijn en/of koorts: volgens het Kinderformularium van het NKFK bij een leeftijd van 1 maand–18 jaar: 10–15 mg/kg lichaamsgewicht per keer, zo nodig 4×/dag, max. 60 mg/kg/dag en max. 4 g/dag.\n",
      "\n",
      "## Score: 4\n",
      "## Text:\n",
      "\n",
      "amitriptyline\n",
      "6 jaar tot 18 jaar Startdosering: voor de nacht: 10 mg/dag in 1 dosisOnderhoudsdosering: langzaam ophogen met 10 mg/dag per 4-6 weken naar 10 - 30 mg/dag in 1 dosis. Max: 30 mg/dag. Behandeling met amitriptyline mag niet plotseling worden gestaakt vanwege het optreden van ontwenningsverschijnselen; de dosering moet geleidelijk worden verminderd.Uit de studie van Powers (2017) blijkt dat de werkzaamheid van amitriptyline bij migraine profylaxe niet effectiever is t.o.v. placebo. Desondanks menen experts dat in individuele gevallen behandeling met amitriptyline overwogen kan worden.\n",
      "\n"
     ]
    }
   ],
   "source": [
    "testResults    \n",
    "|> List.maxBy (fun (model, xs) -> xs |> calcScore)\n",
    "|> fun (m, s) -> printfn $\"\\n\\n## And the winner is: {m} with a high score: {s |> calcScore} from {Texts.testUnitTexts |> List.length}\"\n",
    "\n",
    "testResults\n",
    "|> List.collect (fun (m, xs) -> xs)\n",
    "|> List.groupBy (fun (_, _, t) -> t)\n",
    "|> List.map (fun (txt, s) -> s |> calcScore, txt)\n",
    "|> List.sortBy fst\n",
    "|> List.iter (fun (s, t) ->\n",
    "    printfn $\"## Score: {s}\"\n",
    "    printfn $\"## Text:\\n{t}\"\n",
    ")"
   ]
  },
  {
   "cell_type": "markdown",
   "metadata": {},
   "source": [
    "## Conclusion\n",
    "\n",
    "In conclusion, this notebook demonstrates a sophisticated approach to extracting structured information from free text using a Large Language Model (LLM). By defining specific extraction functions, each equipped with a `zero` structure for fallback and a `validator` for verifying the integrity of the extracted data, we can tackle complex extraction tasks in a modular, manageable manner. These functions are designed to isolate and validate small pieces of structured information, simplifying the extraction process.\n",
    "\n",
    "Furthermore, by integrating these functions into a larger extraction framework and utilizing the monad computational expression, we ensure that the state—essentially, the ongoing conversation or list of messages—is consistently passed along. This approach ensures that the LLM maintains a comprehensive context, potentially enhancing the accuracy and validity of the information extracted.\n",
    "\n",
    "To assess the efficacy of our extraction methodology, we employ a test function that iterates through a series of test texts, comparing the LLM's extractions against predefined expected outcomes. The comparison results in a success score that reflects the number of matches, offering a quantifiable measure of the extraction process's effectiveness.\n",
    "\n",
    "Overall, this code presents a robust framework for not only extracting structured information from unstructured text but also validating and testing the accuracy of these extractions. Such a system has vast applications, ranging from data analysis to automating information retrieval and processing tasks, highlighting the power of combining LLM capabilities with functional programming and validation techniques."
   ]
  }
 ],
 "metadata": {
  "kernelspec": {
   "display_name": ".NET (C#)",
   "language": "C#",
   "name": ".net-csharp"
  },
  "language_info": {
   "name": "polyglot-notebook"
  },
  "polyglot_notebook": {
   "kernelInfo": {
    "defaultKernelName": "csharp",
    "items": [
     {
      "aliases": [],
      "name": "csharp"
     },
     {
      "aliases": [],
      "languageName": "fsharp",
      "name": "fsharp"
     }
    ]
   }
  }
 },
 "nbformat": 4,
 "nbformat_minor": 2
}
