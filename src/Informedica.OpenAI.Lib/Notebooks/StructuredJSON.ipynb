{
 "cells": [
  {
   "cell_type": "markdown",
   "metadata": {},
   "source": [
    "# Using Ollama to get structured output\n",
    "\n",
    "To structure text, using a structured output enables better extraction and validation.\n",
    "\n",
    "First setup the notebook."
   ]
  },
  {
   "cell_type": "code",
   "execution_count": 21,
   "metadata": {
    "dotnet_interactive": {
     "language": "fsharp"
    },
    "polyglot_notebook": {
     "kernelName": "fsharp"
    }
   },
   "outputs": [],
   "source": [
    "#load \"load.fsx\"\n",
    "\n",
    "open Informedica.OpenAI.Lib\n",
    "open Ollama.Operators\n",
    "\n",
    "let extraction = function\n",
    "| Ok x -> printfn $\"## Extracted:\\n{x}\"\n",
    "| Error _ -> printfn \"## Extraction failed\""
   ]
  },
  {
   "cell_type": "markdown",
   "metadata": {},
   "source": [
    "## Define a schema and a type for the output\n",
    "\n",
    "The json function will output the type used as a type parameter. However, due to limitations of the ollama framework you need to add the schema to the prompt as well."
   ]
  },
  {
   "cell_type": "code",
   "execution_count": 22,
   "metadata": {
    "dotnet_interactive": {
     "language": "fsharp"
    },
    "polyglot_notebook": {
     "kernelName": "fsharp"
    }
   },
   "outputs": [
    {
     "name": "stdout",
     "output_type": "stream",
     "text": [
      "ℹ INFO: \n",
      "EndPoint: http://localhost:11434/api/chat\n",
      "Payload:\n",
      "{\"format\":\"json\",\"messages\":[{\"content\":\"\\nUse schema: { number: int; unit: string }\\nWhat is the minimal corrected gestational age mentioned in the text between '''\\n\\n'''A neonate 28 weeks to 32 weeks corrected gestational age.'''\\n\\nReply in JSON.\",\"role\":\"user\"}],\"model\":\"llama2\",\"options\":{\"num_keep\":null,\"seed\":101,\"num_predict\":null,\"top_k\":null,\"top_p\":null,\"tfs_z\":null,\"typical_p\":null,\"repeat_last_n\":64,\"temperature\":0.0,\"repeat_penalty\":null,\"presence_penalty\":null,\"frequency_penalty\":null,\"mirostat\":0,\"mirostat_tau\":null,\"mirostat_eta\":null,\"penalize_newline\":null,\"stop\":[],\"numa\":null,\"num_ctx\":2048,\"num_batch\":null,\"num_gqa\":null,\"num_gpu\":null,\"main_gpu\":null,\"low_vram\":null,\"f16_kv\":null,\"vocab_only\":null,\"use_mmap\":null,\"use_mlock\":null,\"rope_frequency_base\":null,\"rope_frequency_scale\":null,\"num_thread\":null},\"response_format\":{\"schema\":{\n",
      "  \"$schema\": \"http://json-schema.org/draft-04/schema#\",\n",
      "  \"title\": \"<>f__AnonymousType3408661278OfIntegerAndString\",\n",
      "  \"type\": \"object\",\n",
      "  \"additionalProperties\": false,\n",
      "  \"properties\": {\n",
      "    \"number\": {\n",
      "      \"type\": \"integer\",\n",
      "      \"format\": \"int32\"\n",
      "    },\n",
      "    \"unit\": {\n",
      "      \"type\": [\n",
      "        \"null\",\n",
      "        \"string\"\n",
      "      ]\n",
      "    }\n",
      "  }\n",
      "},\"type\":\"json_object\"},\"stream\":false}\n",
      "\n",
      "## Extracted:\n",
      "{ number = 28\n",
      "  unit = \"weeks\" }\n"
     ]
    }
   ],
   "source": [
    "\n",
    "\"\"\"\n",
    "Use schema: { number: int; unit: string }\n",
    "What is the minimal corrected gestational age mentioned in the text between '''\n",
    "\n",
    "'''A neonate 28 weeks to 32 weeks corrected gestational age.'''\n",
    "\n",
    "Reply in JSON.\"\"\"\n",
    "|> Message.user\n",
    "|> Ollama.json<{| number: int; unit: string |}>\n",
    "    Ollama.Models.llama2\n",
    "    []\n",
    "|> Async.RunSynchronously\n",
    "|> extraction"
   ]
  },
  {
   "cell_type": "markdown",
   "metadata": {},
   "source": [
    "## Getting  the maximum age as a json structure\n",
    "\n",
    "The above output is correct, now try and get the maximum age."
   ]
  },
  {
   "cell_type": "code",
   "execution_count": 23,
   "metadata": {
    "dotnet_interactive": {
     "language": "fsharp"
    },
    "polyglot_notebook": {
     "kernelName": "fsharp"
    }
   },
   "outputs": [
    {
     "name": "stdout",
     "output_type": "stream",
     "text": [
      "ℹ INFO: \n",
      "EndPoint: http://localhost:11434/api/chat\n",
      "Payload:\n",
      "{\"format\":\"json\",\"messages\":[{\"content\":\"\\nUse schema: { number: int; unit: string }\\nWhat is the maximum corrected gestational age mentioned in the text between '''\\n\\n'''A neonate 28 weeks to 32 weeks corrected gestational age.'''\\n\\nReply in JSON.\",\"role\":\"user\"}],\"model\":\"llama2\",\"options\":{\"num_keep\":null,\"seed\":101,\"num_predict\":null,\"top_k\":null,\"top_p\":null,\"tfs_z\":null,\"typical_p\":null,\"repeat_last_n\":64,\"temperature\":0.0,\"repeat_penalty\":null,\"presence_penalty\":null,\"frequency_penalty\":null,\"mirostat\":0,\"mirostat_tau\":null,\"mirostat_eta\":null,\"penalize_newline\":null,\"stop\":[],\"numa\":null,\"num_ctx\":2048,\"num_batch\":null,\"num_gqa\":null,\"num_gpu\":null,\"main_gpu\":null,\"low_vram\":null,\"f16_kv\":null,\"vocab_only\":null,\"use_mmap\":null,\"use_mlock\":null,\"rope_frequency_base\":null,\"rope_frequency_scale\":null,\"num_thread\":null},\"response_format\":{\"schema\":{\n",
      "  \"$schema\": \"http://json-schema.org/draft-04/schema#\",\n",
      "  \"title\": \"<>f__AnonymousType3408661278OfIntegerAndString\",\n",
      "  \"type\": \"object\",\n",
      "  \"additionalProperties\": false,\n",
      "  \"properties\": {\n",
      "    \"number\": {\n",
      "      \"type\": \"integer\",\n",
      "      \"format\": \"int32\"\n",
      "    },\n",
      "    \"unit\": {\n",
      "      \"type\": [\n",
      "        \"null\",\n",
      "        \"string\"\n",
      "      ]\n",
      "    }\n",
      "  }\n",
      "},\"type\":\"json_object\"},\"stream\":false}\n",
      "\n",
      "## Extracted:\n",
      "{ number = 28\n",
      "  unit = \"weeks\" }\n"
     ]
    }
   ],
   "source": [
    "\"\"\"\n",
    "Use schema: { number: int; unit: string }\n",
    "What is the maximum corrected gestational age mentioned in the text between '''\n",
    "\n",
    "'''A neonate 28 weeks to 32 weeks corrected gestational age.'''\n",
    "\n",
    "Reply in JSON.\"\"\"\n",
    "|> Message.user\n",
    "|> Ollama.json<{| number: int; unit: string |}>\n",
    "    Ollama.Models.llama2\n",
    "    []\n",
    "|> Async.RunSynchronously\n",
    "|> extraction"
   ]
  },
  {
   "cell_type": "markdown",
   "metadata": {},
   "source": [
    "## Try a different structured output\n",
    "\n",
    "Somehow, the prompt is misunderstood and the minimum age value is returned instead of the maximum age value.\n",
    "\n",
    "Let's try again using a more complex structure."
   ]
  },
  {
   "cell_type": "code",
   "execution_count": 24,
   "metadata": {
    "dotnet_interactive": {
     "language": "fsharp"
    },
    "polyglot_notebook": {
     "kernelName": "fsharp"
    }
   },
   "outputs": [
    {
     "name": "stdout",
     "output_type": "stream",
     "text": [
      "ℹ INFO: \n",
      "EndPoint: http://localhost:11434/api/chat\n",
      "Payload:\n",
      "{\"format\":\"json\",\"messages\":[{\"content\":\"\\nUse schema: { minAge: int; maxAge: int; unit: string }\\nWhat is corrected gestational age range mentioned in the text between '''\\n\\n'''A neonate 28 weeks to 32 weeks corrected gestational age.'''\\n\\nReply in JSON.\",\"role\":\"user\"}],\"model\":\"llama2\",\"options\":{\"num_keep\":null,\"seed\":101,\"num_predict\":null,\"top_k\":null,\"top_p\":null,\"tfs_z\":null,\"typical_p\":null,\"repeat_last_n\":64,\"temperature\":0.0,\"repeat_penalty\":null,\"presence_penalty\":null,\"frequency_penalty\":null,\"mirostat\":0,\"mirostat_tau\":null,\"mirostat_eta\":null,\"penalize_newline\":null,\"stop\":[],\"numa\":null,\"num_ctx\":2048,\"num_batch\":null,\"num_gqa\":null,\"num_gpu\":null,\"main_gpu\":null,\"low_vram\":null,\"f16_kv\":null,\"vocab_only\":null,\"use_mmap\":null,\"use_mlock\":null,\"rope_frequency_base\":null,\"rope_frequency_scale\":null,\"num_thread\":null},\"response_format\":{\"schema\":{\n",
      "  \"$schema\": \"http://json-schema.org/draft-04/schema#\",\n",
      "  \"title\": \"<>f__AnonymousType1996685024OfIntegerAndIntegerAndString\",\n",
      "  \"type\": \"object\",\n",
      "  \"additionalProperties\": false,\n",
      "  \"properties\": {\n",
      "    \"maxAge\": {\n",
      "      \"type\": \"integer\",\n",
      "      \"format\": \"int32\"\n",
      "    },\n",
      "    \"minAge\": {\n",
      "      \"type\": \"integer\",\n",
      "      \"format\": \"int32\"\n",
      "    },\n",
      "    \"unit\": {\n",
      "      \"type\": [\n",
      "        \"null\",\n",
      "        \"string\"\n",
      "      ]\n",
      "    }\n",
      "  }\n",
      "},\"type\":\"json_object\"},\"stream\":false}\n",
      "\n",
      "## Extracted:\n",
      "{ maxAge = 32\n",
      "  minAge = 28\n",
      "  unit = \"weeks\" }\n"
     ]
    }
   ],
   "source": [
    "\"\"\"\n",
    "Use schema: { minAge: int; maxAge: int; unit: string }\n",
    "What is corrected gestational age range mentioned in the text between '''\n",
    "\n",
    "'''A neonate 28 weeks to 32 weeks corrected gestational age.'''\n",
    "\n",
    "Reply in JSON.\"\"\"\n",
    "|> Message.user\n",
    "|> Ollama.json<{| minAge: int; maxAge: int; unit: string |}>\n",
    "    Ollama.Models.llama2\n",
    "    []\n",
    "|> Async.RunSynchronously\n",
    "|> extraction"
   ]
  },
  {
   "cell_type": "markdown",
   "metadata": {},
   "source": [
    "## Extraction with different units\n",
    "\n",
    "Now try a Dutch text with differrent units for the minimum and maximum age."
   ]
  },
  {
   "cell_type": "code",
   "execution_count": 25,
   "metadata": {
    "dotnet_interactive": {
     "language": "fsharp"
    },
    "polyglot_notebook": {
     "kernelName": "fsharp"
    }
   },
   "outputs": [
    {
     "name": "stdout",
     "output_type": "stream",
     "text": [
      "ℹ INFO: \n",
      "EndPoint: http://localhost:11434/api/chat\n",
      "Payload:\n",
      "{\"format\":\"json\",\"messages\":[{\"content\":\"\\nUse schema: { minAge: int, maxAge: int, minAgeUnit: string, maxAgeUnit: string }\\nWhat is age range mentioned in the text between '''\\n\\n'''\\nparacetamol\\nOraal: Bij milde tot matige pijn en/of koorts: volgens het Kinderformularium van het NKFK bij een leeftijd van 1 maand–18 jaar: 10–15 mg/kg lichaamsgewicht per keer, zo nodig 4×/dag, max. 60 mg/kg/dag en max. 4 g/dag.\\n'''\\n\\nRespond in JSON\\n\",\"role\":\"user\"}],\"model\":\"llama2\",\"options\":{\"num_keep\":null,\"seed\":101,\"num_predict\":null,\"top_k\":null,\"top_p\":null,\"tfs_z\":null,\"typical_p\":null,\"repeat_last_n\":64,\"temperature\":0.0,\"repeat_penalty\":null,\"presence_penalty\":null,\"frequency_penalty\":null,\"mirostat\":0,\"mirostat_tau\":null,\"mirostat_eta\":null,\"penalize_newline\":null,\"stop\":[],\"numa\":null,\"num_ctx\":2048,\"num_batch\":null,\"num_gqa\":null,\"num_gpu\":null,\"main_gpu\":null,\"low_vram\":null,\"f16_kv\":null,\"vocab_only\":null,\"use_mmap\":null,\"use_mlock\":null,\"rope_frequency_base\":null,\"rope_frequency_scale\":null,\"num_thread\":null},\"response_format\":{\"schema\":{\n",
      "  \"$schema\": \"http://json-schema.org/draft-04/schema#\",\n",
      "  \"title\": \"<>f__AnonymousType2405761160OfIntegerAndStringAndIntegerAndString\",\n",
      "  \"type\": \"object\",\n",
      "  \"additionalProperties\": false,\n",
      "  \"properties\": {\n",
      "    \"maxAge\": {\n",
      "      \"type\": \"integer\",\n",
      "      \"format\": \"int32\"\n",
      "    },\n",
      "    \"maxAgeUnit\": {\n",
      "      \"type\": [\n",
      "        \"null\",\n",
      "        \"string\"\n",
      "      ]\n",
      "    },\n",
      "    \"minAge\": {\n",
      "      \"type\": \"integer\",\n",
      "      \"format\": \"int32\"\n",
      "    },\n",
      "    \"minAgeUnit\": {\n",
      "      \"type\": [\n",
      "        \"null\",\n",
      "        \"string\"\n",
      "      ]\n",
      "    }\n",
      "  }\n",
      "},\"type\":\"json_object\"},\"stream\":false}\n",
      "\n",
      "## Extracted:\n",
      "{ maxAge = 18\n",
      "  maxAgeUnit = \"dag\"\n",
      "  minAge = 1\n",
      "  minAgeUnit = \"maand\" }\n"
     ]
    }
   ],
   "source": [
    "\"\"\"\n",
    "Use schema: { minAge: int, maxAge: int, minAgeUnit: string, maxAgeUnit: string }\n",
    "What is age range mentioned in the text between '''\n",
    "\n",
    "'''\n",
    "paracetamol\n",
    "Oraal: Bij milde tot matige pijn en/of koorts: volgens het Kinderformularium van het NKFK bij een leeftijd van 1 maand–18 jaar: 10–15 mg/kg lichaamsgewicht per keer, zo nodig 4×/dag, max. 60 mg/kg/dag en max. 4 g/dag.\n",
    "'''\n",
    "\n",
    "Respond in JSON\n",
    "\"\"\"\n",
    "|> Message.user\n",
    "|> Ollama.json<{| minAge: int; maxAge: int; minAgeUnit: string; maxAgeUnit: string |}>\n",
    "    Ollama.Models.llama2\n",
    "    []\n",
    "|> Async.RunSynchronously\n",
    "|> extraction"
   ]
  },
  {
   "cell_type": "markdown",
   "metadata": {},
   "source": [
    "## Use a more explicit structure\n",
    "\n",
    "A more explicit structure also has more semantic meaning. The below structure is an explicit range structure with a min and a max object containing an age structure."
   ]
  },
  {
   "cell_type": "code",
   "execution_count": 26,
   "metadata": {
    "dotnet_interactive": {
     "language": "fsharp"
    },
    "polyglot_notebook": {
     "kernelName": "fsharp"
    }
   },
   "outputs": [
    {
     "name": "stdout",
     "output_type": "stream",
     "text": [
      "ℹ INFO: \n",
      "EndPoint: http://localhost:11434/api/chat\n",
      "Payload:\n",
      "{\"format\":\"json\",\"messages\":[{\"content\":\"\\nUse schema: { ageRange : { minAge: { age: int, unit: string }, maxAge: { age: int, unit: string } } }\\nWhat is age range mentioned in the text between '''\\n\\n'''\\nparacetamol\\nOraal: Bij milde tot matige pijn en/of koorts: volgens het Kinderformularium van het NKFK bij een leeftijd van 1 maand–18 jaar: 10–15 mg/kg lichaamsgewicht per keer, zo nodig 4×/dag, max. 60 mg/kg/dag en max. 4 g/dag.\\n'''\\n\\nRespond in JSON\\n\",\"role\":\"user\"}],\"model\":\"llama2\",\"options\":{\"num_keep\":null,\"seed\":101,\"num_predict\":null,\"top_k\":null,\"top_p\":null,\"tfs_z\":null,\"typical_p\":null,\"repeat_last_n\":64,\"temperature\":0.0,\"repeat_penalty\":null,\"presence_penalty\":null,\"frequency_penalty\":null,\"mirostat\":0,\"mirostat_tau\":null,\"mirostat_eta\":null,\"penalize_newline\":null,\"stop\":[],\"numa\":null,\"num_ctx\":2048,\"num_batch\":null,\"num_gqa\":null,\"num_gpu\":null,\"main_gpu\":null,\"low_vram\":null,\"f16_kv\":null,\"vocab_only\":null,\"use_mmap\":null,\"use_mlock\":null,\"rope_frequency_base\":null,\"rope_frequency_scale\":null,\"num_thread\":null},\"response_format\":{\"schema\":{\n",
      "  \"$schema\": \"http://json-schema.org/draft-04/schema#\",\n",
      "  \"title\": \"<>f__AnonymousType535326819Of<>f__AnonymousType2485855837Of<>f__AnonymousType3030620811OfIntegerAndStringAnd<>f__AnonymousType3030620811OfIntegerAndString\",\n",
      "  \"type\": \"object\",\n",
      "  \"additionalProperties\": false,\n",
      "  \"properties\": {\n",
      "    \"ageRange\": {\n",
      "      \"oneOf\": [\n",
      "        {\n",
      "          \"type\": \"null\"\n",
      "        },\n",
      "        {\n",
      "          \"$ref\": \"#/definitions/OfF__AnonymousType2485855837OfOfF__AnonymousType3030620811OfIntegerAndStringAndOfF__AnonymousType3030620811OfIntegerAndString\"\n",
      "        }\n",
      "      ]\n",
      "    }\n",
      "  },\n",
      "  \"definitions\": {\n",
      "    \"OfF__AnonymousType2485855837OfOfF__AnonymousType3030620811OfIntegerAndStringAndOfF__AnonymousType3030620811OfIntegerAndString\": {\n",
      "      \"type\": \"object\",\n",
      "      \"additionalProperties\": false,\n",
      "      \"properties\": {\n",
      "        \"maxAge\": {\n",
      "          \"oneOf\": [\n",
      "            {\n",
      "              \"type\": \"null\"\n",
      "            },\n",
      "            {\n",
      "              \"$ref\": \"#/definitions/OfF__AnonymousType3030620811OfIntegerAndString\"\n",
      "            }\n",
      "          ]\n",
      "        },\n",
      "        \"minAge\": {\n",
      "          \"oneOf\": [\n",
      "            {\n",
      "              \"type\": \"null\"\n",
      "            },\n",
      "            {\n",
      "              \"$ref\": \"#/definitions/OfF__AnonymousType3030620811OfIntegerAndString\"\n",
      "            }\n",
      "          ]\n",
      "        }\n",
      "      }\n",
      "    },\n",
      "    \"OfF__AnonymousType3030620811OfIntegerAndString\": {\n",
      "      \"type\": \"object\",\n",
      "      \"additionalProperties\": false,\n",
      "      \"properties\": {\n",
      "        \"age\": {\n",
      "          \"type\": \"integer\",\n",
      "          \"format\": \"int32\"\n",
      "        },\n",
      "        \"unit\": {\n",
      "          \"type\": [\n",
      "            \"null\",\n",
      "            \"string\"\n",
      "          ]\n",
      "        }\n",
      "      }\n",
      "    }\n",
      "  }\n",
      "},\"type\":\"json_object\"},\"stream\":false}\n",
      "\n",
      "## Extracted:\n",
      "{ ageRange = { maxAge = { age = 18\n",
      "                          unit = \"jaar\" }\n",
      "               minAge = { age = 1\n",
      "                          unit = \"maand\" } } }\n"
     ]
    }
   ],
   "source": [
    "\"\"\"\n",
    "Use schema: { ageRange : { minAge: { age: int, unit: string }, maxAge: { age: int, unit: string } } }\n",
    "What is age range mentioned in the text between '''\n",
    "\n",
    "'''\n",
    "paracetamol\n",
    "Oraal: Bij milde tot matige pijn en/of koorts: volgens het Kinderformularium van het NKFK bij een leeftijd van 1 maand–18 jaar: 10–15 mg/kg lichaamsgewicht per keer, zo nodig 4×/dag, max. 60 mg/kg/dag en max. 4 g/dag.\n",
    "'''\n",
    "\n",
    "Respond in JSON\n",
    "\"\"\"\n",
    "|> Message.user\n",
    "|> Ollama.json<{| ageRange : {| minAge: {| age: int; unit: string |}; maxAge: {| age: int; unit: string |} |} |} >\n",
    "    Ollama.Models.llama2\n",
    "    []\n",
    "|> Async.RunSynchronously\n",
    "|> extraction"
   ]
  },
  {
   "cell_type": "markdown",
   "metadata": {},
   "source": [
    "## Extract a dose structure\n",
    "\n",
    "Let's try to extract a dose from a text."
   ]
  },
  {
   "cell_type": "code",
   "execution_count": 27,
   "metadata": {
    "dotnet_interactive": {
     "language": "fsharp"
    },
    "polyglot_notebook": {
     "kernelName": "fsharp"
    }
   },
   "outputs": [
    {
     "name": "stdout",
     "output_type": "stream",
     "text": [
      "ℹ INFO: \n",
      "EndPoint: http://localhost:11434/api/chat\n",
      "Payload:\n",
      "{\"format\":\"json\",\"messages\":[{\"content\":\"\\nUse schema: { maxDose: float, unit: string }\\nWhat is the max dose mentioned in the text between '''\\n\\n'''\\nparacetamol\\nOraal: Bij milde tot matige pijn en/of koorts: volgens het Kinderformularium van het NKFK bij een leeftijd van 1 maand–18 jaar: 10–15 mg/kg lichaamsgewicht per keer, zo nodig 4×/dag, max. 60 mg/kg/dag en max. 4 g/dag.\\n'''\\n\\nRespond in JSON\\n\",\"role\":\"user\"}],\"model\":\"llama2\",\"options\":{\"num_keep\":null,\"seed\":101,\"num_predict\":null,\"top_k\":null,\"top_p\":null,\"tfs_z\":null,\"typical_p\":null,\"repeat_last_n\":64,\"temperature\":0.0,\"repeat_penalty\":null,\"presence_penalty\":null,\"frequency_penalty\":null,\"mirostat\":0,\"mirostat_tau\":null,\"mirostat_eta\":null,\"penalize_newline\":null,\"stop\":[],\"numa\":null,\"num_ctx\":2048,\"num_batch\":null,\"num_gqa\":null,\"num_gpu\":null,\"main_gpu\":null,\"low_vram\":null,\"f16_kv\":null,\"vocab_only\":null,\"use_mmap\":null,\"use_mlock\":null,\"rope_frequency_base\":null,\"rope_frequency_scale\":null,\"num_thread\":null},\"response_format\":{\"schema\":{\n",
      "  \"$schema\": \"http://json-schema.org/draft-04/schema#\",\n",
      "  \"title\": \"<>f__AnonymousType3097151138OfIntegerAndString\",\n",
      "  \"type\": \"object\",\n",
      "  \"additionalProperties\": false,\n",
      "  \"properties\": {\n",
      "    \"maxDose\": {\n",
      "      \"type\": \"integer\",\n",
      "      \"format\": \"int32\"\n",
      "    },\n",
      "    \"unit\": {\n",
      "      \"type\": [\n",
      "        \"null\",\n",
      "        \"string\"\n",
      "      ]\n",
      "    }\n",
      "  }\n",
      "},\"type\":\"json_object\"},\"stream\":false}\n",
      "\n",
      "## Extracted:\n",
      "{ maxDose = 60\n",
      "  unit = \"mg/kg/day\" }\n"
     ]
    }
   ],
   "source": [
    "\"\"\"\n",
    "Use schema: { maxDose: float, unit: string }\n",
    "What is the max dose mentioned in the text between '''\n",
    "\n",
    "'''\n",
    "paracetamol\n",
    "Oraal: Bij milde tot matige pijn en/of koorts: volgens het Kinderformularium van het NKFK bij een leeftijd van 1 maand–18 jaar: 10–15 mg/kg lichaamsgewicht per keer, zo nodig 4×/dag, max. 60 mg/kg/dag en max. 4 g/dag.\n",
    "'''\n",
    "\n",
    "Respond in JSON\n",
    "\"\"\"\n",
    "|> Message.user\n",
    "|> Ollama.json<{| maxDose: int; unit: string |}>\n",
    "    Ollama.Models.llama2\n",
    "    []\n",
    "|> Async.RunSynchronously\n",
    "|> extraction"
   ]
  }
 ],
 "metadata": {
  "kernelspec": {
   "display_name": ".NET (C#)",
   "language": "C#",
   "name": ".net-csharp"
  },
  "language_info": {
   "name": "polyglot-notebook"
  },
  "polyglot_notebook": {
   "kernelInfo": {
    "defaultKernelName": "csharp",
    "items": [
     {
      "aliases": [],
      "name": "csharp"
     },
     {
      "aliases": [],
      "languageName": "fsharp",
      "name": "fsharp"
     }
    ]
   }
  }
 },
 "nbformat": 4,
 "nbformat_minor": 2
}
