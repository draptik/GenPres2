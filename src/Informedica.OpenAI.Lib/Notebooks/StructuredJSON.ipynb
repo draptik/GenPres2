{
 "cells": [
  {
   "cell_type": "markdown",
   "metadata": {},
   "source": [
    "# Using Ollama to get structured output\n",
    "\n",
    "To structure text, using a structured output enables better extraction and validation.\n",
    "\n",
    "First setup the notebook."
   ]
  },
  {
   "cell_type": "code",
   "execution_count": 31,
   "metadata": {
    "dotnet_interactive": {
     "language": "fsharp"
    },
    "polyglot_notebook": {
     "kernelName": "fsharp"
    }
   },
   "outputs": [],
   "source": [
    "#load \"load.fsx\"\n",
    "    \n",
    "open System\n",
    "\n",
    "open Newtonsoft.Json\n",
    "open Informedica.Utils.Lib.BCL\n",
    "\n",
    "open Informedica.OpenAI.Lib\n",
    "open Ollama.Operators\n",
    "\n",
    "let extraction = function\n",
    "| Ok x -> printfn $\"## Extracted:\\n{x}\"\n",
    "| Error err -> printfn $\"## Extraction failed:\\n{err}\"\n",
    "\n",
    "let messages =\n",
    "    [\n",
    "        \"\"\"\n",
    "You are a medical and pharmaceutical expert specifically quallified to answer questions\n",
    "about medication and dosing medication. You also know about measurements and units.\n",
    "You are asked to extract data from free text and structure the data in JSON.\n",
    "\"\"\"\n",
    "        |> Message.system\n",
    "    ]"
   ]
  },
  {
   "cell_type": "markdown",
   "metadata": {},
   "source": [
    "## First the hello world of LLMs to check everthing is running"
   ]
  },
  {
   "cell_type": "code",
   "execution_count": 32,
   "metadata": {
    "dotnet_interactive": {
     "language": "fsharp"
    },
    "polyglot_notebook": {
     "kernelName": "fsharp"
    }
   },
   "outputs": [
    {
     "name": "stdout",
     "output_type": "stream",
     "text": [
      "Starting conversation with llama2\n",
      "\n",
      "Options:\n",
      "{\"num_keep\":null,\"seed\":101,\"num_predict\":null,\"top_k\":null,\"top_p\":null,\"tfs_z\":null,\"typical_p\":null,\"repeat_last_n\":64,\"temperature\":0.0,\"repeat_penalty\":null,\"presence_penalty\":null,\"frequency_penalty\":null,\"mirostat\":0,\"mirostat_tau\":null,\"mirostat_eta\":null,\"penalize_newline\":null,\"stop\":[],\"numa\":null,\"num_ctx\":2048,\"num_batch\":null,\"num_gqa\":null,\"num_gpu\":null,\"main_gpu\":null,\"low_vram\":null,\"f16_kv\":null,\"vocab_only\":null,\"use_mmap\":null,\"use_mlock\":null,\"rope_frequency_base\":null,\"rope_frequency_scale\":null,\"num_thread\":null}\n",
      "\n",
      "ℹ INFO: \n",
      "EndPoint: http://localhost:11434/api/chat\n",
      "Payload:\n",
      "{\"messages\":[{\"content\":\"You are a helpful assistant\",\"role\":\"system\"},{\"content\":\"Why is the sky blue?\",\"role\":\"user\"}],\"model\":\"llama2\",\"options\":{\"num_keep\":null,\"seed\":101,\"num_predict\":null,\"top_k\":null,\"top_p\":null,\"tfs_z\":null,\"typical_p\":null,\"repeat_last_n\":64,\"temperature\":0.0,\"repeat_penalty\":null,\"presence_penalty\":null,\"frequency_penalty\":null,\"mirostat\":0,\"mirostat_tau\":null,\"mirostat_eta\":null,\"penalize_newline\":null,\"stop\":[],\"numa\":null,\"num_ctx\":2048,\"num_batch\":null,\"num_gqa\":null,\"num_gpu\":null,\"main_gpu\":null,\"low_vram\":null,\"f16_kv\":null,\"vocab_only\":null,\"use_mmap\":null,\"use_mlock\":null,\"rope_frequency_base\":null,\"rope_frequency_scale\":null,\"num_thread\":null},\"stream\":false}\n",
      "\n",
      "\n",
      "## System:\n",
      "You are a helpful assistant\n",
      "\n",
      "\n",
      "## Question:\n",
      "Why is the sky blue?\n",
      "\n",
      "## Answer:\n",
      "Ah, an excellent question! The sky appears blue because of a phenomenon called Rayleigh scattering. When sunlight enters Earth's atmosphere, it encounters tiny molecules of gases such as nitrogen and oxygen. These molecules scatter the light in all directions, but they scatter shorter (blue) wavelengths more than longer (red) wavelengths. This is known as Rayleigh scattering.\n",
      "\n",
      "As a result of this scattering, the blue light is dispersed throughout the atmosphere, giving the sky its characteristic blue color. The red light, on the other hand, travels through the atmosphere with less scattering and reaches our eyes directly, appearing more intense and orange-red in color.\n",
      "\n",
      "So, to summarize, the sky appears blue because of the way sunlight interacts with the gases in Earth's atmosphere, specifically Rayleigh scattering.\n",
      "\n"
     ]
    }
   ],
   "source": [
    "\"You are a helpful assistant\"\n",
    "|> init Ollama.Models.llama2\n",
    ">>? \"Why is the sky blue?\"\n",
    "|> Conversation.print"
   ]
  },
  {
   "cell_type": "markdown",
   "metadata": {},
   "source": [
    "## Define a schema and a type for the output\n",
    "\n",
    "The json function will output the type used as a type parameter. However, due to limitations of the ollama framework you need to add the schema to the prompt as well."
   ]
  },
  {
   "cell_type": "code",
   "execution_count": 33,
   "metadata": {
    "dotnet_interactive": {
     "language": "fsharp"
    },
    "polyglot_notebook": {
     "kernelName": "fsharp"
    }
   },
   "outputs": [
    {
     "name": "stdout",
     "output_type": "stream",
     "text": [
      "ℹ INFO: \n",
      "EndPoint: http://localhost:11434/api/chat\n",
      "Payload:\n",
      "{\"format\":\"json\",\"messages\":[{\"content\":\"\\nYou are a medical and pharmaceutical expert specifically quallified to answer questions\\nabout medication and dosing medication. You also know about measurements and units.\\nYou are asked to extract data from free text and structure the data in JSON.\\n\",\"role\":\"system\"},{\"content\":\"\\nUse schema: { number: int unit: string }\\nWhat is the minimal corrected gestational age mentioned in the text between '''\\n\\n'''A neonate 28 weeks to 32 weeks corrected gestational age.'''\\n\\nReply in JSON.\",\"role\":\"user\"}],\"model\":\"llama2\",\"options\":{\"num_keep\":null,\"seed\":101,\"num_predict\":null,\"top_k\":null,\"top_p\":null,\"tfs_z\":null,\"typical_p\":null,\"repeat_last_n\":64,\"temperature\":0.0,\"repeat_penalty\":null,\"presence_penalty\":null,\"frequency_penalty\":null,\"mirostat\":0,\"mirostat_tau\":null,\"mirostat_eta\":null,\"penalize_newline\":null,\"stop\":[],\"numa\":null,\"num_ctx\":2048,\"num_batch\":null,\"num_gqa\":null,\"num_gpu\":null,\"main_gpu\":null,\"low_vram\":null,\"f16_kv\":null,\"vocab_only\":null,\"use_mmap\":null,\"use_mlock\":null,\"rope_frequency_base\":null,\"rope_frequency_scale\":null,\"num_thread\":null},\"response_format\":{\"schema\":null,\"type\":\"json_object\"},\"stream\":false}\n",
      "\n",
      "## Extracted:\n",
      "{ number = 28\n",
      "  unit = \"weeks\" }\n"
     ]
    }
   ],
   "source": [
    "\n",
    "$\"\"\"\n",
    "Use schema: { \"{| number: int; unit: string |}\" |> Utils.anonymousTypeStringToJson}\n",
    "What is the minimal corrected gestational age mentioned in the text between '''\n",
    "\n",
    "'''A neonate 28 weeks to 32 weeks corrected gestational age.'''\n",
    "\n",
    "Reply in JSON.\"\"\"\n",
    "|> Message.user\n",
    "|> Ollama.json<{| number: int; unit: string |}>\n",
    "    Ollama.Models.llama2\n",
    "    messages\n",
    "|> Async.RunSynchronously\n",
    "|> extraction"
   ]
  },
  {
   "cell_type": "markdown",
   "metadata": {},
   "source": [
    "## Getting  the maximum age as a json structure\n",
    "\n",
    "The above output is correct, now try and get the maximum age."
   ]
  },
  {
   "cell_type": "code",
   "execution_count": 34,
   "metadata": {
    "dotnet_interactive": {
     "language": "fsharp"
    },
    "polyglot_notebook": {
     "kernelName": "fsharp"
    }
   },
   "outputs": [
    {
     "name": "stdout",
     "output_type": "stream",
     "text": [
      "ℹ INFO: \n",
      "EndPoint: http://localhost:11434/api/chat\n",
      "Payload:\n",
      "{\"format\":\"json\",\"messages\":[{\"content\":\"\\nYou are a medical and pharmaceutical expert specifically quallified to answer questions\\nabout medication and dosing medication. You also know about measurements and units.\\nYou are asked to extract data from free text and structure the data in JSON.\\n\",\"role\":\"system\"},{\"content\":\"\\nUse schema: { number: int unit: string }\\nWhat is the maximum corrected gestational age mentioned in the text between '''\\n\\n'''A neonate 28 weeks to 32 weeks corrected gestational age.'''\\n\\nReply in JSON.\",\"role\":\"user\"}],\"model\":\"llama2\",\"options\":{\"num_keep\":null,\"seed\":101,\"num_predict\":null,\"top_k\":null,\"top_p\":null,\"tfs_z\":null,\"typical_p\":null,\"repeat_last_n\":64,\"temperature\":0.0,\"repeat_penalty\":null,\"presence_penalty\":null,\"frequency_penalty\":null,\"mirostat\":0,\"mirostat_tau\":null,\"mirostat_eta\":null,\"penalize_newline\":null,\"stop\":[],\"numa\":null,\"num_ctx\":2048,\"num_batch\":null,\"num_gqa\":null,\"num_gpu\":null,\"main_gpu\":null,\"low_vram\":null,\"f16_kv\":null,\"vocab_only\":null,\"use_mmap\":null,\"use_mlock\":null,\"rope_frequency_base\":null,\"rope_frequency_scale\":null,\"num_thread\":null},\"response_format\":{\"schema\":null,\"type\":\"json_object\"},\"stream\":false}\n",
      "\n",
      "## Extracted:\n",
      "{ number = 28\n",
      "  unit = \"weeks\" }\n"
     ]
    }
   ],
   "source": [
    "$\"\"\"\n",
    "Use schema: { \"{| number: int; unit: string |}\" |> Utils.anonymousTypeStringToJson }\n",
    "What is the maximum corrected gestational age mentioned in the text between '''\n",
    "\n",
    "'''A neonate 28 weeks to 32 weeks corrected gestational age.'''\n",
    "\n",
    "Reply in JSON.\"\"\"\n",
    "|> Message.user\n",
    "|> Ollama.json<{| number: int; unit: string |}>\n",
    "    Ollama.Models.llama2\n",
    "    messages\n",
    "|> Async.RunSynchronously\n",
    "|> extraction"
   ]
  },
  {
   "cell_type": "markdown",
   "metadata": {},
   "source": [
    "## Try a different structured output\n",
    "\n",
    "Somehow, the prompt is misunderstood and the minimum age value is returned instead of the maximum age value.\n",
    "\n",
    "Let's try again using a more complex structure."
   ]
  },
  {
   "cell_type": "code",
   "execution_count": 35,
   "metadata": {
    "dotnet_interactive": {
     "language": "fsharp"
    },
    "polyglot_notebook": {
     "kernelName": "fsharp"
    }
   },
   "outputs": [
    {
     "name": "stdout",
     "output_type": "stream",
     "text": [
      "ℹ INFO: \n",
      "EndPoint: http://localhost:11434/api/chat\n",
      "Payload:\n",
      "{\"format\":\"json\",\"messages\":[{\"content\":\"\\nYou are a medical and pharmaceutical expert specifically quallified to answer questions\\nabout medication and dosing medication. You also know about measurements and units.\\nYou are asked to extract data from free text and structure the data in JSON.\\n\",\"role\":\"system\"},{\"content\":\"\\nUse schema: { number: int unit: string }\\nWhat is corrected gestational age range mentioned in the text between '''\\n\\n'''A neonate 28 weeks to 32 weeks corrected gestational age.'''\\n\\nReply in JSON.\",\"role\":\"user\"}],\"model\":\"llama2\",\"options\":{\"num_keep\":null,\"seed\":101,\"num_predict\":null,\"top_k\":null,\"top_p\":null,\"tfs_z\":null,\"typical_p\":null,\"repeat_last_n\":64,\"temperature\":0.0,\"repeat_penalty\":null,\"presence_penalty\":null,\"frequency_penalty\":null,\"mirostat\":0,\"mirostat_tau\":null,\"mirostat_eta\":null,\"penalize_newline\":null,\"stop\":[],\"numa\":null,\"num_ctx\":2048,\"num_batch\":null,\"num_gqa\":null,\"num_gpu\":null,\"main_gpu\":null,\"low_vram\":null,\"f16_kv\":null,\"vocab_only\":null,\"use_mmap\":null,\"use_mlock\":null,\"rope_frequency_base\":null,\"rope_frequency_scale\":null,\"num_thread\":null},\"response_format\":{\"schema\":null,\"type\":\"json_object\"},\"stream\":false}\n",
      "\n",
      "## Extracted:\n",
      "{ maxAge = 0\n",
      "  minAge = 0\n",
      "  unit = \"weeks\" }\n"
     ]
    }
   ],
   "source": [
    "$\"\"\"\n",
    "Use schema: { \"{| number: int; unit: string |}\" |> Utils.anonymousTypeStringToJson }\n",
    "What is corrected gestational age range mentioned in the text between '''\n",
    "\n",
    "'''A neonate 28 weeks to 32 weeks corrected gestational age.'''\n",
    "\n",
    "Reply in JSON.\"\"\"\n",
    "|> Message.user\n",
    "|> Ollama.json<{| minAge: int; maxAge: int; unit: string |}>\n",
    "    Ollama.Models.llama2\n",
    "    messages\n",
    "|> Async.RunSynchronously\n",
    "|> extraction"
   ]
  },
  {
   "cell_type": "markdown",
   "metadata": {},
   "source": [
    "## Extraction with different units\n",
    "\n",
    "Now try a Dutch text with differrent units for the minimum and maximum age."
   ]
  },
  {
   "cell_type": "code",
   "execution_count": 36,
   "metadata": {
    "dotnet_interactive": {
     "language": "fsharp"
    },
    "polyglot_notebook": {
     "kernelName": "fsharp"
    }
   },
   "outputs": [
    {
     "name": "stdout",
     "output_type": "stream",
     "text": [
      "ℹ INFO: \n",
      "EndPoint: http://localhost:11434/api/chat\n",
      "Payload:\n",
      "{\"format\":\"json\",\"messages\":[{\"content\":\"\\nYou are a medical and pharmaceutical expert specifically quallified to answer questions\\nabout medication and dosing medication. You also know about measurements and units.\\nYou are asked to extract data from free text and structure the data in JSON.\\n\",\"role\":\"system\"},{\"content\":\"\\nUse schema: { minAge: int maxAge: int minAgeUnit: string maxAgeUnit: string }\\nWhat is age range mentioned in the text between '''\\n\\n'''\\nparacetamol\\nOraal: Bij milde tot matige pijn en/of koorts: volgens het Kinderformularium van het NKFK bij een leeftijd van 1 maand–18 jaar: 10–15 mg/kg lichaamsgewicht per keer, zo nodig 4×/dag, max. 60 mg/kg/dag en max. 4 g/dag.\\n'''\\n\\nRespond in JSON\\n\",\"role\":\"user\"}],\"model\":\"llama2\",\"options\":{\"num_keep\":null,\"seed\":101,\"num_predict\":null,\"top_k\":null,\"top_p\":null,\"tfs_z\":null,\"typical_p\":null,\"repeat_last_n\":64,\"temperature\":0.0,\"repeat_penalty\":null,\"presence_penalty\":null,\"frequency_penalty\":null,\"mirostat\":0,\"mirostat_tau\":null,\"mirostat_eta\":null,\"penalize_newline\":null,\"stop\":[],\"numa\":null,\"num_ctx\":2048,\"num_batch\":null,\"num_gqa\":null,\"num_gpu\":null,\"main_gpu\":null,\"low_vram\":null,\"f16_kv\":null,\"vocab_only\":null,\"use_mmap\":null,\"use_mlock\":null,\"rope_frequency_base\":null,\"rope_frequency_scale\":null,\"num_thread\":null},\"response_format\":{\"schema\":null,\"type\":\"json_object\"},\"stream\":false}\n",
      "\n",
      "## Extracted:\n",
      "{ maxAge = 18\n",
      "  maxAgeUnit = \"days\"\n",
      "  minAge = 1\n",
      "  minAgeUnit = \"months\" }\n"
     ]
    }
   ],
   "source": [
    "$\"\"\"\n",
    "Use schema: { \"{| minAge: int; maxAge: int; minAgeUnit: string; maxAgeUnit: string |}\" |> Utils.anonymousTypeStringToJson }\n",
    "What is age range mentioned in the text between '''\n",
    "\n",
    "'''\n",
    "paracetamol\n",
    "Oraal: Bij milde tot matige pijn en/of koorts: volgens het Kinderformularium van het NKFK bij een leeftijd van 1 maand–18 jaar: 10–15 mg/kg lichaamsgewicht per keer, zo nodig 4×/dag, max. 60 mg/kg/dag en max. 4 g/dag.\n",
    "'''\n",
    "\n",
    "Respond in JSON\n",
    "\"\"\"\n",
    "|> Message.user\n",
    "|> Ollama.json<{| minAge: int; maxAge: int; minAgeUnit: string; maxAgeUnit: string |}>\n",
    "    Ollama.Models.llama2\n",
    "    messages\n",
    "|> Async.RunSynchronously\n",
    "|> extraction"
   ]
  },
  {
   "cell_type": "markdown",
   "metadata": {},
   "source": [
    "## Use a more explicit structure\n",
    "\n",
    "A more explicit structure also has more semantic meaning. The below structure is an explicit range structure with a min and a max object containing an age structure."
   ]
  },
  {
   "cell_type": "code",
   "execution_count": 37,
   "metadata": {
    "dotnet_interactive": {
     "language": "fsharp"
    },
    "polyglot_notebook": {
     "kernelName": "fsharp"
    }
   },
   "outputs": [
    {
     "name": "stdout",
     "output_type": "stream",
     "text": [
      "ℹ INFO: \n",
      "EndPoint: http://localhost:11434/api/chat\n",
      "Payload:\n",
      "{\"format\":\"json\",\"messages\":[{\"content\":\"\\nYou are a medical and pharmaceutical expert specifically quallified to answer questions\\nabout medication and dosing medication. You also know about measurements and units.\\nYou are asked to extract data from free text and structure the data in JSON.\\n\",\"role\":\"system\"},{\"content\":\"\\nUse schema: { ageRange : { minAge: { age: int unit: string } maxAge: { age: int unit: string } } }\\nWhat is age range mentioned in the text between '''\\n\\n'''\\nparacetamol\\nOraal: Bij milde tot matige pijn en/of koorts: volgens het Kinderformularium van het NKFK bij een leeftijd van 1 maand–18 jaar: 10–15 mg/kg lichaamsgewicht per keer, zo nodig 4×/dag, max. 60 mg/kg/dag en max. 4 g/dag.\\n'''\\n\\nRespond in JSON\\n\",\"role\":\"user\"}],\"model\":\"llama2\",\"options\":{\"num_keep\":null,\"seed\":101,\"num_predict\":null,\"top_k\":null,\"top_p\":null,\"tfs_z\":null,\"typical_p\":null,\"repeat_last_n\":64,\"temperature\":0.0,\"repeat_penalty\":null,\"presence_penalty\":null,\"frequency_penalty\":null,\"mirostat\":0,\"mirostat_tau\":null,\"mirostat_eta\":null,\"penalize_newline\":null,\"stop\":[],\"numa\":null,\"num_ctx\":2048,\"num_batch\":null,\"num_gqa\":null,\"num_gpu\":null,\"main_gpu\":null,\"low_vram\":null,\"f16_kv\":null,\"vocab_only\":null,\"use_mmap\":null,\"use_mlock\":null,\"rope_frequency_base\":null,\"rope_frequency_scale\":null,\"num_thread\":null},\"response_format\":{\"schema\":null,\"type\":\"json_object\"},\"stream\":false}\n",
      "\n",
      "## Extracted:\n",
      "{ ageRange = { maxAge = { age = 18\n",
      "                          unit = \"years\" }\n",
      "               minAge = { age = 1\n",
      "                          unit = \"months\" } } }\n"
     ]
    }
   ],
   "source": [
    "\n",
    "$\"\"\"\n",
    "Use schema: { \"{| ageRange : {| minAge: {| age: int; unit: string |}; maxAge: {| age: int; unit: string |} |} |}\" |> Utils.anonymousTypeStringToJson }\n",
    "What is age range mentioned in the text between '''\n",
    "\n",
    "'''\n",
    "paracetamol\n",
    "Oraal: Bij milde tot matige pijn en/of koorts: volgens het Kinderformularium van het NKFK bij een leeftijd van 1 maand–18 jaar: 10–15 mg/kg lichaamsgewicht per keer, zo nodig 4×/dag, max. 60 mg/kg/dag en max. 4 g/dag.\n",
    "'''\n",
    "\n",
    "Respond in JSON\n",
    "\"\"\"\n",
    "|> Message.user\n",
    "|> Ollama.json<{| ageRange : {| minAge: {| age: int; unit: string |}; maxAge: {| age: int; unit: string |} |} |} >\n",
    "    Ollama.Models.llama2\n",
    "    messages\n",
    "|> Async.RunSynchronously\n",
    "|> extraction"
   ]
  },
  {
   "cell_type": "markdown",
   "metadata": {},
   "source": [
    "## A more demanding extraction with different units\n",
    "\n",
    "Try to extract 6 months - 1 year. So, naively 6 > 1 but with units ofcourse not so!"
   ]
  },
  {
   "cell_type": "code",
   "execution_count": 38,
   "metadata": {
    "dotnet_interactive": {
     "language": "fsharp"
    },
    "polyglot_notebook": {
     "kernelName": "fsharp"
    }
   },
   "outputs": [
    {
     "name": "stdout",
     "output_type": "stream",
     "text": [
      "ℹ INFO: \n",
      "EndPoint: http://localhost:11434/api/chat\n",
      "Payload:\n",
      "{\"format\":\"json\",\"messages\":[{\"content\":\"\\nYou are a medical and pharmaceutical expert specifically quallified to answer questions\\nabout medication and dosing medication. You also know about measurements and units.\\nYou are asked to extract data from free text and structure the data in JSON.\\n\",\"role\":\"system\"},{\"content\":\"\\nUse schema: { ageRange : { minAge: { age: int unit: string } maxAge: { age: int unit: string } } }\\nWhat is age range mentioned in the text between '''\\n\\n'''\\nparacetamol\\nOraal: Bij milde tot matige pijn en/of koorts: volgens het Kinderformularium van het NKFK bij een leeftijd van 6 maanden – 1 jaar: 10–15 mg/kg lichaamsgewicht per keer, zo nodig 4×/dag, max. 60 mg/kg/dag en max. 4 g/dag.\\n'''\\n\\nRespond in JSON\\n\",\"role\":\"user\"}],\"model\":\"llama2\",\"options\":{\"num_keep\":null,\"seed\":101,\"num_predict\":null,\"top_k\":null,\"top_p\":null,\"tfs_z\":null,\"typical_p\":null,\"repeat_last_n\":64,\"temperature\":0.0,\"repeat_penalty\":null,\"presence_penalty\":null,\"frequency_penalty\":null,\"mirostat\":0,\"mirostat_tau\":null,\"mirostat_eta\":null,\"penalize_newline\":null,\"stop\":[],\"numa\":null,\"num_ctx\":2048,\"num_batch\":null,\"num_gqa\":null,\"num_gpu\":null,\"main_gpu\":null,\"low_vram\":null,\"f16_kv\":null,\"vocab_only\":null,\"use_mmap\":null,\"use_mlock\":null,\"rope_frequency_base\":null,\"rope_frequency_scale\":null,\"num_thread\":null},\"response_format\":{\"schema\":null,\"type\":\"json_object\"},\"stream\":false}\n",
      "\n",
      "## Extracted:\n",
      "{ ageRange = { maxAge = { age = 12\n",
      "                          unit = \"maanden\" }\n",
      "               minAge = { age = 6\n",
      "                          unit = \"maanden\" } } }\n"
     ]
    }
   ],
   "source": [
    "$\"\"\"\n",
    "Use schema: { \"{| ageRange : {| minAge: {| age: int; unit: string |}; maxAge: {| age: int; unit: string |} |} |}\" |> Utils.anonymousTypeStringToJson }\n",
    "What is age range mentioned in the text between '''\n",
    "\n",
    "'''\n",
    "paracetamol\n",
    "Oraal: Bij milde tot matige pijn en/of koorts: volgens het Kinderformularium van het NKFK bij een leeftijd van 6 maanden – 1 jaar: 10–15 mg/kg lichaamsgewicht per keer, zo nodig 4×/dag, max. 60 mg/kg/dag en max. 4 g/dag.\n",
    "'''\n",
    "\n",
    "Respond in JSON\n",
    "\"\"\"\n",
    "|> Message.user\n",
    "|> Ollama.json<{| ageRange : {| minAge: {| age: int; unit: string |}; maxAge: {| age: int; unit: string |} |} |} >\n",
    "    Ollama.Models.llama2\n",
    "    messages\n",
    "|> Async.RunSynchronously\n",
    "|> extraction"
   ]
  },
  {
   "cell_type": "markdown",
   "metadata": {},
   "source": [
    "Surprise! It figured out that 1 year = 12 months, so the max age is indeed 12 months, i.e. 1 year. At first glance I actually thought the LLM got it wrong ;-)"
   ]
  },
  {
   "cell_type": "markdown",
   "metadata": {},
   "source": [
    "## Try the same with Fireworkds API"
   ]
  },
  {
   "cell_type": "code",
   "execution_count": 39,
   "metadata": {
    "dotnet_interactive": {
     "language": "fsharp"
    },
    "polyglot_notebook": {
     "kernelName": "fsharp"
    }
   },
   "outputs": [
    {
     "name": "stdout",
     "output_type": "stream",
     "text": [
      "ℹ INFO: \n",
      "EndPoint: https://api.fireworks.ai/inference/v1/chat/completions\n",
      "Payload:\n",
      "{\"model\":\"accounts/fireworks/models/llama-v2-70b-chat\",\"messages\":[{\"content\":\"\\nYou are a medical and pharmaceutical expert specifically quallified to answer questions\\nabout medication and dosing medication. You also know about measurements and units.\\nYou are asked to extract data from free text and structure the data in JSON.\\n\",\"role\":\"system\"},{\"content\":\"\\nUse schema: { ageRange : { minAge: { age: int unit: string } maxAge: { age: int unit: string } } }\\nWhat is age range mentioned in the text between '''\\n\\n'''\\nparacetamol\\nOraal: Bij milde tot matige pijn en/of koorts: volgens het Kinderformularium van het NKFK bij een leeftijd van 6 maanden – 1 jaar: 10–15 mg/kg lichaamsgewicht per keer, zo nodig 4×/dag, max. 60 mg/kg/dag en max. 4 g/dag.\\n'''\\n\\nRespond in JSON\\n\",\"role\":\"user\"}],\"tools\":[],\"max_tokens\":200,\"prompt_truncate_len\":1500,\"temperature\":0.0,\"top_p\":1.0,\"top_k\":50,\"frequency_penalty\":0.0,\"presence_penalty\":0.0,\"n\":1,\"stop\":[],\"response_format\":{\"type\":\"json_object\",\"schema\":null},\"stream\":false,\"context_length_exceeded_behavior\":\"truncate\",\"user\":\"user\"}\n",
      "\n",
      "## Extracted:\n",
      "{ Original =\n",
      "   \"{\"id\":\"cmpl-162b64eb3ee814739d860100\",\"object\":\"chat.completion\",\"created\":1710579951,\"model\":\"accounts/fireworks/models/llama-v2-70b-chat\",\"choices\":[{\"index\":0,\"message\":{\"role\":\"assistant\",\"content\":\"{\\n\\\"ageRange\\\": {\\n\\\"minAge\\\": {\\n\\\"age\\\": 6,\\n\\\"unit\\\": \\\"months\\\"\\n},\\n\\\"maxAge\\\": {\\n\\\"age\\\": 1,\\n\\\"unit\\\": \\\"years\\\"\\n}\\n}\\n}\"},\"finish_reason\":\"stop\"}],\"usage\":{\"prompt_tokens\":232,\"total_tokens\":290,\"completion_tokens\":58}}\"\n",
      "  Response =\n",
      "   { id = \"cmpl-162b64eb3ee814739d860100\"\n",
      "     object = \"chat.completion\"\n",
      "     created = 1710579951L\n",
      "     model = \"accounts/fireworks/models/llama-v2-70b-chat\"\n",
      "     system_fingerprint = null\n",
      "     choices =\n",
      "      [{ index = 0\n",
      "         message =\n",
      "          { content =\n",
      "             \"{\n",
      "\"ageRange\": {\n",
      "\"minAge\": {\n",
      "\"age\": 6,\n",
      "\"unit\": \"months\"\n",
      "},\n",
      "\"maxAge\": {\n",
      "\"age\": 1,\n",
      "\"unit\": \"years\"\n",
      "}\n",
      "}\n",
      "}\"\n",
      "            role = \"assistant\" }\n",
      "         finish_reason = \"stop\" }]\n",
      "     usage = { prompt_tokens = 232\n",
      "               completion_tokens = 58\n",
      "               total_tokens = 290 } } }\n"
     ]
    }
   ],
   "source": [
    "let msg =\n",
    "    $\"\"\"\n",
    "Use schema: { \"{| ageRange : {| minAge: {| age: int; unit: string |}; maxAge: {| age: int; unit: string |} |} |}\" |> Utils.anonymousTypeStringToJson }\n",
    "What is age range mentioned in the text between '''\n",
    "\n",
    "'''\n",
    "paracetamol\n",
    "Oraal: Bij milde tot matige pijn en/of koorts: volgens het Kinderformularium van het NKFK bij een leeftijd van 6 maanden – 1 jaar: 10–15 mg/kg lichaamsgewicht per keer, zo nodig 4×/dag, max. 60 mg/kg/dag en max. 4 g/dag.\n",
    "'''\n",
    "\n",
    "Respond in JSON\n",
    "\"\"\"\n",
    "    |> Message.user\n",
    "\n",
    "Fireworks.Chat.defaultChatInput\n",
    "    \"accounts/fireworks/models/llama-v2-70b-chat\"\n",
    "    msg messages\n",
    "|> Fireworks.chatJson<{| ageRange : {| minAge: {| age: int; unit: string |}; maxAge: {| age: int; unit: string |} |} |} >\n",
    "|> Async.RunSynchronously\n",
    "|> extraction"
   ]
  },
  {
   "cell_type": "markdown",
   "metadata": {},
   "source": [
    "## Extract a dose structure\n",
    "\n",
    "Let's try to extract a dose from a text."
   ]
  },
  {
   "cell_type": "code",
   "execution_count": 40,
   "metadata": {
    "dotnet_interactive": {
     "language": "fsharp"
    },
    "polyglot_notebook": {
     "kernelName": "fsharp"
    }
   },
   "outputs": [
    {
     "name": "stdout",
     "output_type": "stream",
     "text": [
      "ℹ INFO: \n",
      "EndPoint: http://localhost:11434/api/chat\n",
      "Payload:\n",
      "{\"format\":\"json\",\"messages\":[{\"content\":\"\\nYou are a medical and pharmaceutical expert specifically quallified to answer questions\\nabout medication and dosing medication. You also know about measurements and units.\\nYou are asked to extract data from free text and structure the data in JSON.\\n\",\"role\":\"system\"},{\"content\":\"\\nUse schema: { maxDose: float, unit: string }\\nWhat is the max dose mentioned in the text between '''\\n\\n'''\\nparacetamol\\nOraal: Bij milde tot matige pijn en/of koorts: volgens het Kinderformularium van het NKFK bij een leeftijd van 1 maand–18 jaar: 10–15 mg/kg lichaamsgewicht per keer, zo nodig 4×/dag, max. 60 mg/kg/dag en max. 4 g/dag.\\n'''\\n\\nRespond in JSON\\n\",\"role\":\"user\"}],\"model\":\"llama2\",\"options\":{\"num_keep\":null,\"seed\":101,\"num_predict\":null,\"top_k\":null,\"top_p\":null,\"tfs_z\":null,\"typical_p\":null,\"repeat_last_n\":64,\"temperature\":0.0,\"repeat_penalty\":null,\"presence_penalty\":null,\"frequency_penalty\":null,\"mirostat\":0,\"mirostat_tau\":null,\"mirostat_eta\":null,\"penalize_newline\":null,\"stop\":[],\"numa\":null,\"num_ctx\":2048,\"num_batch\":null,\"num_gqa\":null,\"num_gpu\":null,\"main_gpu\":null,\"low_vram\":null,\"f16_kv\":null,\"vocab_only\":null,\"use_mmap\":null,\"use_mlock\":null,\"rope_frequency_base\":null,\"rope_frequency_scale\":null,\"num_thread\":null},\"response_format\":{\"schema\":null,\"type\":\"json_object\"},\"stream\":false}\n",
      "\n",
      "## Extracted:\n",
      "{ maxDose = 60\n",
      "  unit = \"mg/kg lichaamsgewicht per keer\" }\n"
     ]
    }
   ],
   "source": [
    "\"\"\"\n",
    "Use schema: { maxDose: float, unit: string }\n",
    "What is the max dose mentioned in the text between '''\n",
    "\n",
    "'''\n",
    "paracetamol\n",
    "Oraal: Bij milde tot matige pijn en/of koorts: volgens het Kinderformularium van het NKFK bij een leeftijd van 1 maand–18 jaar: 10–15 mg/kg lichaamsgewicht per keer, zo nodig 4×/dag, max. 60 mg/kg/dag en max. 4 g/dag.\n",
    "'''\n",
    "\n",
    "Respond in JSON\n",
    "\"\"\"\n",
    "|> Message.user\n",
    "|> Ollama.json<{| maxDose: int; unit: string |}>\n",
    "    Ollama.Models.llama2\n",
    "    messages\n",
    "|> Async.RunSynchronously\n",
    "|> extraction"
   ]
  },
  {
   "cell_type": "markdown",
   "metadata": {},
   "source": [
    "## Validate an extraction\n",
    "\n",
    "We wanted to get the absolute maximum dose. We can add a validator making sure the unit is just the dose unit and a time unit."
   ]
  },
  {
   "cell_type": "code",
   "execution_count": 41,
   "metadata": {
    "dotnet_interactive": {
     "language": "fsharp"
    },
    "polyglot_notebook": {
     "kernelName": "fsharp"
    }
   },
   "outputs": [],
   "source": [
    "let validator =\n",
    "    let isTimeUnit s =\n",
    "        [\"dag\"; \"day\"; \"uur\"; \"hour\"; \"week\"]\n",
    "        |> List.exists (fun tu -> s |> String.contains tu)\n",
    "    fun s ->\n",
    "        let vu = s |> JsonConvert.DeserializeObject<{| maxDose: float; doseUnit: string; timeUnit : string |}>\n",
    "        if vu.timeUnit |> isTimeUnit then \n",
    "            if vu.doseUnit |> String.split \"/\" |> List.length = 1 then s |> Ok \n",
    "            else\n",
    "                $\"{vu.doseUnit} should be a single dose unit\" \n",
    "                |> Error\n",
    "        else \n",
    "            $\"{vu.timeUnit} is not a time unit but should be a time unit\"\n",
    "            |> Error"
   ]
  },
  {
   "cell_type": "code",
   "execution_count": 42,
   "metadata": {
    "dotnet_interactive": {
     "language": "fsharp"
    },
    "polyglot_notebook": {
     "kernelName": "fsharp"
    }
   },
   "outputs": [
    {
     "name": "stdout",
     "output_type": "stream",
     "text": [
      "ℹ INFO: \n",
      "EndPoint: http://localhost:11434/api/chat\n",
      "Payload:\n",
      "{\"format\":\"json\",\"messages\":[{\"content\":\"\\nYou are a medical and pharmaceutical expert specifically quallified to answer questions\\nabout medication and dosing medication. You also know about measurements and units.\\nYou are asked to extract data from free text and structure the data in JSON.\\n\",\"role\":\"system\"},{\"content\":\"\\nUse schema: { maxDose: float doseUnit: string timeUnit : string }\\nWhat is the max dose mentioned in the text between '''\\n\\n'''\\nparacetamol\\nOraal: Bij milde tot matige pijn en/of koorts: volgens het Kinderformularium van het NKFK bij een leeftijd van 1 maand–18 jaar: 10–15 mg/kg lichaamsgewicht per keer, zo nodig 4×/dag, max. 60 mg/kg/dag en max. 4 g/dag.\\n'''\\n\\nRespond in JSON\\n\",\"role\":\"user\"}],\"model\":\"llama2\",\"options\":{\"num_keep\":null,\"seed\":101,\"num_predict\":null,\"top_k\":null,\"top_p\":null,\"tfs_z\":null,\"typical_p\":null,\"repeat_last_n\":64,\"temperature\":0.0,\"repeat_penalty\":null,\"presence_penalty\":null,\"frequency_penalty\":null,\"mirostat\":0,\"mirostat_tau\":null,\"mirostat_eta\":null,\"penalize_newline\":null,\"stop\":[],\"numa\":null,\"num_ctx\":2048,\"num_batch\":null,\"num_gqa\":null,\"num_gpu\":null,\"main_gpu\":null,\"low_vram\":null,\"f16_kv\":null,\"vocab_only\":null,\"use_mmap\":null,\"use_mlock\":null,\"rope_frequency_base\":null,\"rope_frequency_scale\":null,\"num_thread\":null},\"response_format\":{\"schema\":null,\"type\":\"json_object\"},\"stream\":false}\n",
      "\n",
      "ℹ INFO: \n",
      "EndPoint: http://localhost:11434/api/chat\n",
      "Payload:\n",
      "{\"format\":\"json\",\"messages\":[{\"content\":\"\\nYou are a medical and pharmaceutical expert specifically quallified to answer questions\\nabout medication and dosing medication. You also know about measurements and units.\\nYou are asked to extract data from free text and structure the data in JSON.\\n\",\"role\":\"system\"},{\"content\":\"\\nUse schema: { maxDose: float doseUnit: string timeUnit : string }\\nWhat is the max dose mentioned in the text between '''\\n\\n'''\\nparacetamol\\nOraal: Bij milde tot matige pijn en/of koorts: volgens het Kinderformularium van het NKFK bij een leeftijd van 1 maand–18 jaar: 10–15 mg/kg lichaamsgewicht per keer, zo nodig 4×/dag, max. 60 mg/kg/dag en max. 4 g/dag.\\n'''\\n\\nRespond in JSON\\n\",\"role\":\"user\"},{\"content\":\"{\\\"doseUnit\\\":\\\"mg/kg lichaamsgewicht\\\",\\\"maxDose\\\":60.0,\\\"timeUnit\\\":\\\"dag\\\"}\",\"role\":\"assistant\"},{\"content\":\"The answer: {\\\"doseUnit\\\":\\\"mg/kg lichaamsgewicht\\\",\\\"maxDose\\\":60.0,\\\"timeUnit\\\":\\\"dag\\\"} was not correct because of mg/kg lichaamsgewicht should be a single dose unit. Please try again answering:\\n\\n\\nUse schema: { maxDose: float doseUnit: string timeUnit : string }\\nWhat is the max dose mentioned in the text between '''\\n\\n'''\\nparacetamol\\nOraal: Bij milde tot matige pijn en/of koorts: volgens het Kinderformularium van het NKFK bij een leeftijd van 1 maand–18 jaar: 10–15 mg/kg lichaamsgewicht per keer, zo nodig 4×/dag, max. 60 mg/kg/dag en max. 4 g/dag.\\n'''\\n\\nRespond in JSON\\n\",\"role\":\"user\"}],\"model\":\"llama2\",\"options\":{\"num_keep\":null,\"seed\":101,\"num_predict\":null,\"top_k\":null,\"top_p\":null,\"tfs_z\":null,\"typical_p\":null,\"repeat_last_n\":64,\"temperature\":0.0,\"repeat_penalty\":null,\"presence_penalty\":null,\"frequency_penalty\":null,\"mirostat\":0,\"mirostat_tau\":null,\"mirostat_eta\":null,\"penalize_newline\":null,\"stop\":[],\"numa\":null,\"num_ctx\":2048,\"num_batch\":null,\"num_gqa\":null,\"num_gpu\":null,\"main_gpu\":null,\"low_vram\":null,\"f16_kv\":null,\"vocab_only\":null,\"use_mmap\":null,\"use_mlock\":null,\"rope_frequency_base\":null,\"rope_frequency_scale\":null,\"num_thread\":null},\"response_format\":{\"schema\":null,\"type\":\"json_object\"},\"stream\":false}\n",
      "\n",
      "\n",
      "## System:\n",
      "You are a medical and pharmaceutical expert specifically quallified to answer questions\n",
      "about medication and dosing medication. You also know about measurements and units.\n",
      "You are asked to extract data from free text and structure the data in JSON.\n",
      "\n",
      "\n",
      "## Question:\n",
      "Use schema: { maxDose: float doseUnit: string timeUnit : string }\n",
      "What is the max dose mentioned in the text between '''\n",
      "\n",
      "'''\n",
      "paracetamol\n",
      "Oraal: Bij milde tot matige pijn en/of koorts: volgens het Kinderformularium van het NKFK bij een leeftijd van 1 maand–18 jaar: 10–15 mg/kg lichaamsgewicht per keer, zo nodig 4×/dag, max. 60 mg/kg/dag en max. 4 g/dag.\n",
      "'''\n",
      "\n",
      "Respond in JSON\n",
      "\n",
      "\n",
      "## Answer:\n",
      "{\"doseUnit\":\"mg/kg lichaamsgewicht\",\"maxDose\":60.0,\"timeUnit\":\"dag\"}\n",
      "\n",
      "\n",
      "## Question:\n",
      "The answer: {\"doseUnit\":\"mg/kg lichaamsgewicht\",\"maxDose\":60.0,\"timeUnit\":\"dag\"} was not correct because of mg/kg lichaamsgewicht should be a single dose unit. Please try again answering:\n",
      "\n",
      "\n",
      "Use schema: { maxDose: float doseUnit: string timeUnit : string }\n",
      "What is the max dose mentioned in the text between '''\n",
      "\n",
      "'''\n",
      "paracetamol\n",
      "Oraal: Bij milde tot matige pijn en/of koorts: volgens het Kinderformularium van het NKFK bij een leeftijd van 1 maand–18 jaar: 10–15 mg/kg lichaamsgewicht per keer, zo nodig 4×/dag, max. 60 mg/kg/dag en max. 4 g/dag.\n",
      "'''\n",
      "\n",
      "Respond in JSON\n",
      "\n",
      "\n",
      "## Answer:\n",
      "{\"doseUnit\":\"mg/kg lichaamsgewicht\",\"maxDose\":60.0,\"timeUnit\":\"dag\"}\n",
      "\n",
      "## Extraction failed:\n",
      "mg/kg lichaamsgewicht should be a single dose unit\n"
     ]
    }
   ],
   "source": [
    "$\"\"\"\n",
    "Use schema: { \"{| maxDose: float; doseUnit: string; timeUnit : string |}\" |> Utils.anonymousTypeStringToJson }\n",
    "What is the max dose mentioned in the text between '''\n",
    "\n",
    "'''\n",
    "paracetamol\n",
    "Oraal: Bij milde tot matige pijn en/of koorts: volgens het Kinderformularium van het NKFK bij een leeftijd van 1 maand–18 jaar: 10–15 mg/kg lichaamsgewicht per keer, zo nodig 4×/dag, max. 60 mg/kg/dag en max. 4 g/dag.\n",
    "'''\n",
    "\n",
    "Respond in JSON\n",
    "\"\"\"\n",
    "|> Message.user\n",
    "|> fun msg -> \n",
    "    { msg with\n",
    "        Validator = validator\n",
    "    }\n",
    "|> Ollama.validate<{| maxDose: float; doseUnit: string; timeUnit : string |}>\n",
    "    Ollama.Models.llama2\n",
    "    messages\n",
    "|> Async.RunSynchronously\n",
    "|> extraction"
   ]
  },
  {
   "cell_type": "code",
   "execution_count": 43,
   "metadata": {
    "dotnet_interactive": {
     "language": "fsharp"
    },
    "polyglot_notebook": {
     "kernelName": "fsharp"
    }
   },
   "outputs": [
    {
     "name": "stdout",
     "output_type": "stream",
     "text": [
      "ℹ INFO: \n",
      "EndPoint: https://api.fireworks.ai/inference/v1/chat/completions\n",
      "Payload:\n",
      "{\"model\":\"accounts/fireworks/models/llama-v2-70b-chat\",\"messages\":[{\"content\":\"\\nYou are a medical and pharmaceutical expert specifically quallified to answer questions\\nabout medication and dosing medication. You also know about measurements and units.\\nYou are asked to extract data from free text and structure the data in JSON.\\n\",\"role\":\"system\"},{\"content\":\"\\nUse schema { maxDose: float doseUnit: string timeUnit : string }\\nWhat is the max dose mentioned in the text between '''\\n\\n'''\\nparacetamol\\nOraal: Bij milde tot matige pijn en/of koorts: volgens het Kinderformularium van het NKFK bij een leeftijd van 1 maand–18 jaar: 10–15 mg/kg lichaamsgewicht per keer, zo nodig 4×/dag, max. 60 mg/kg/dag en max. 4 g/dag.\\n'''\\n\\nRespond in JSON\\n\",\"role\":\"user\"}],\"tools\":[],\"max_tokens\":200,\"prompt_truncate_len\":1500,\"temperature\":0.0,\"top_p\":1.0,\"top_k\":50,\"frequency_penalty\":0.0,\"presence_penalty\":0.0,\"n\":1,\"stop\":[],\"response_format\":{\"type\":\"json_object\",\"schema\":null},\"stream\":false,\"context_length_exceeded_behavior\":\"truncate\",\"user\":\"user\"}\n",
      "\n",
      "## Extracted:\n",
      "{ maxDose = 60.0\n",
      "  unit = null }\n"
     ]
    }
   ],
   "source": [
    "let msg = \n",
    "    $\"\"\"\n",
    "Use schema { \"{| maxDose: float; doseUnit: string; timeUnit : string |}\" |> Utils.anonymousTypeStringToJson }\n",
    "What is the max dose mentioned in the text between '''\n",
    "\n",
    "'''\n",
    "paracetamol\n",
    "Oraal: Bij milde tot matige pijn en/of koorts: volgens het Kinderformularium van het NKFK bij een leeftijd van 1 maand–18 jaar: 10–15 mg/kg lichaamsgewicht per keer, zo nodig 4×/dag, max. 60 mg/kg/dag en max. 4 g/dag.\n",
    "'''\n",
    "\n",
    "Respond in JSON\n",
    "\"\"\"\n",
    "    |> Message.user\n",
    "\n",
    "Fireworks.Chat.defaultChatInput\n",
    "    \"accounts/fireworks/models/llama-v2-70b-chat\"\n",
    "    msg messages\n",
    "|> Fireworks.chatJson<{| maxDose: float; doseUnit: string; timeUnit : string |}>\n",
    "|> Async.RunSynchronously\n",
    "|> Result.map (fun resp ->\n",
    "    resp.Response\n",
    "    |> _.choices\n",
    "    |> List.last\n",
    "    |> _.message.content\n",
    "    |> JsonConvert.DeserializeObject<{| maxDose: float; unit: string |}>\n",
    ")\n",
    "|> extraction"
   ]
  },
  {
   "cell_type": "code",
   "execution_count": 44,
   "metadata": {
    "dotnet_interactive": {
     "language": "fsharp"
    },
    "polyglot_notebook": {
     "kernelName": "fsharp"
    }
   },
   "outputs": [
    {
     "name": "stdout",
     "output_type": "stream",
     "text": [
      "ℹ INFO: \n",
      "EndPoint: https://api.fireworks.ai/inference/v1/chat/completions\n",
      "Payload:\n",
      "{\"model\":\"accounts/fireworks/models/llama-v2-70b-chat\",\"messages\":[{\"content\":\"\\nYou are a medical and pharmaceutical expert specifically quallified to answer questions\\nabout medication and dosing medication. You also know about measurements and units.\\nYou are asked to extract data from free text and structure the data in JSON.\\n\",\"role\":\"system\"},{\"content\":\"\\nUse schema { maxDose: float doseUnit: string timeUnit : string }\\nWhat is the max dose mentioned in the text between '''\\n\\n'''\\nparacetamol\\nOraal: Bij milde tot matige pijn en/of koorts: volgens het Kinderformularium van het NKFK bij een leeftijd van 1 maand–18 jaar: 10–15 mg/kg lichaamsgewicht per keer, zo nodig 4×/dag, max. 60 mg/kg/dag en max. 4 g/dag.\\n'''\\n\\nRespond in JSON\\n\",\"role\":\"user\"}],\"tools\":[],\"max_tokens\":200,\"prompt_truncate_len\":1500,\"temperature\":0.0,\"top_p\":1.0,\"top_k\":50,\"frequency_penalty\":0.0,\"presence_penalty\":0.0,\"n\":1,\"stop\":[],\"response_format\":{\"type\":\"json_object\",\"schema\":null},\"stream\":false,\"context_length_exceeded_behavior\":\"truncate\",\"user\":\"user\"}\n",
      "\n",
      "ℹ INFO: \n",
      "EndPoint: https://api.fireworks.ai/inference/v1/chat/completions\n",
      "Payload:\n",
      "{\"model\":\"accounts/fireworks/models/llama-v2-70b-chat\",\"messages\":[{\"content\":\"\\nYou are a medical and pharmaceutical expert specifically quallified to answer questions\\nabout medication and dosing medication. You also know about measurements and units.\\nYou are asked to extract data from free text and structure the data in JSON.\\n\",\"role\":\"system\"},{\"content\":\"\\nUse schema { maxDose: float doseUnit: string timeUnit : string }\\nWhat is the max dose mentioned in the text between '''\\n\\n'''\\nparacetamol\\nOraal: Bij milde tot matige pijn en/of koorts: volgens het Kinderformularium van het NKFK bij een leeftijd van 1 maand–18 jaar: 10–15 mg/kg lichaamsgewicht per keer, zo nodig 4×/dag, max. 60 mg/kg/dag en max. 4 g/dag.\\n'''\\n\\nRespond in JSON\\n\",\"role\":\"user\"},{\"content\":\"The answer: {\\n\\\"maxDose\\\": 60,\\n\\\"doseUnit\\\": \\\"mg/kg/dag\\\",\\n\\\"timeUnit\\\": \\\"dag\\\"\\n} was not correct because of mg/kg/dag should be a single dose unit. Please try again answering:\\n\\n\\nUse schema { maxDose: float doseUnit: string timeUnit : string }\\nWhat is the max dose mentioned in the text between '''\\n\\n'''\\nparacetamol\\nOraal: Bij milde tot matige pijn en/of koorts: volgens het Kinderformularium van het NKFK bij een leeftijd van 1 maand–18 jaar: 10–15 mg/kg lichaamsgewicht per keer, zo nodig 4×/dag, max. 60 mg/kg/dag en max. 4 g/dag.\\n'''\\n\\nRespond in JSON\\n\",\"role\":\"user\"}],\"tools\":[],\"max_tokens\":200,\"prompt_truncate_len\":1500,\"temperature\":0.0,\"top_p\":1.0,\"top_k\":50,\"frequency_penalty\":0.0,\"presence_penalty\":0.0,\"n\":1,\"stop\":[],\"response_format\":{\"type\":\"json_object\",\"schema\":null},\"stream\":false,\"context_length_exceeded_behavior\":\"truncate\",\"user\":\"user\"}\n",
      "\n",
      "\n",
      "## System:\n",
      "You are a medical and pharmaceutical expert specifically quallified to answer questions\n",
      "about medication and dosing medication. You also know about measurements and units.\n",
      "You are asked to extract data from free text and structure the data in JSON.\n",
      "\n",
      "\n",
      "## Question:\n",
      "Use schema { maxDose: float doseUnit: string timeUnit : string }\n",
      "What is the max dose mentioned in the text between '''\n",
      "\n",
      "'''\n",
      "paracetamol\n",
      "Oraal: Bij milde tot matige pijn en/of koorts: volgens het Kinderformularium van het NKFK bij een leeftijd van 1 maand–18 jaar: 10–15 mg/kg lichaamsgewicht per keer, zo nodig 4×/dag, max. 60 mg/kg/dag en max. 4 g/dag.\n",
      "'''\n",
      "\n",
      "Respond in JSON\n",
      "\n",
      "\n",
      "## Question:\n",
      "The answer: {\n",
      "\"maxDose\": 60,\n",
      "\"doseUnit\": \"mg/kg/dag\",\n",
      "\"timeUnit\": \"dag\"\n",
      "} was not correct because of mg/kg/dag should be a single dose unit. Please try again answering:\n",
      "\n",
      "\n",
      "Use schema { maxDose: float doseUnit: string timeUnit : string }\n",
      "What is the max dose mentioned in the text between '''\n",
      "\n",
      "'''\n",
      "paracetamol\n",
      "Oraal: Bij milde tot matige pijn en/of koorts: volgens het Kinderformularium van het NKFK bij een leeftijd van 1 maand–18 jaar: 10–15 mg/kg lichaamsgewicht per keer, zo nodig 4×/dag, max. 60 mg/kg/dag en max. 4 g/dag.\n",
      "'''\n",
      "\n",
      "Respond in JSON\n",
      "\n",
      "## Extraction failed:\n",
      "mg/kg should be a single dose unit\n"
     ]
    }
   ],
   "source": [
    "let msg = \n",
    "    $\"\"\"\n",
    "Use schema { \"{| maxDose: float; doseUnit: string; timeUnit : string |}\" |> Utils.anonymousTypeStringToJson }\n",
    "What is the max dose mentioned in the text between '''\n",
    "\n",
    "'''\n",
    "paracetamol\n",
    "Oraal: Bij milde tot matige pijn en/of koorts: volgens het Kinderformularium van het NKFK bij een leeftijd van 1 maand–18 jaar: 10–15 mg/kg lichaamsgewicht per keer, zo nodig 4×/dag, max. 60 mg/kg/dag en max. 4 g/dag.\n",
    "'''\n",
    "\n",
    "Respond in JSON\n",
    "\"\"\"\n",
    "    |> Message.user\n",
    "\n",
    "Fireworks.Chat.defaultChatInput\n",
    "    \"accounts/fireworks/models/llama-v2-70b-chat\"\n",
    "    msg messages\n",
    "|> Fireworks.validate<{| maxDose: float; doseUnit: string; timeUnit : string |}>\n",
    "    validator\n",
    "|> Async.RunSynchronously\n",
    "|> extraction"
   ]
  }
 ],
 "metadata": {
  "kernelspec": {
   "display_name": ".NET (C#)",
   "language": "C#",
   "name": ".net-csharp"
  },
  "language_info": {
   "name": "polyglot-notebook"
  },
  "polyglot_notebook": {
   "kernelInfo": {
    "defaultKernelName": "csharp",
    "items": [
     {
      "aliases": [],
      "name": "csharp"
     },
     {
      "aliases": [],
      "languageName": "fsharp",
      "name": "fsharp"
     }
    ]
   }
  }
 },
 "nbformat": 4,
 "nbformat_minor": 2
}
