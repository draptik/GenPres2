{
 "cells": [
  {
   "cell_type": "markdown",
   "metadata": {},
   "source": [
    "# Reacting to answers with a validation function\n",
    "\n",
    "First set up the notebook"
   ]
  },
  {
   "cell_type": "code",
   "execution_count": 7,
   "metadata": {
    "dotnet_interactive": {
     "language": "fsharp"
    },
    "polyglot_notebook": {
     "kernelName": "fsharp"
    },
    "vscode": {
     "languageId": "polyglot-notebook"
    }
   },
   "outputs": [],
   "source": [
    "#load \"load.fsx\"\n",
    "\n",
    "open Informedica.Utils.Lib.BCL\n",
    "open Informedica.OpenAI.Lib\n",
    "open Ollama.Operators"
   ]
  },
  {
   "cell_type": "markdown",
   "metadata": {},
   "source": [
    "## Define a validation function\n",
    "\n",
    "The function validates the answer and returns a Result which can either be Ok or Error. The Error response is fed back to the LLM to retry getting the right answer."
   ]
  },
  {
   "cell_type": "code",
   "execution_count": 8,
   "metadata": {
    "dotnet_interactive": {
     "language": "fsharp"
    },
    "polyglot_notebook": {
     "kernelName": "fsharp"
    },
    "vscode": {
     "languageId": "polyglot-notebook"
    }
   },
   "outputs": [],
   "source": [
    "let validator =\n",
    "    fun s -> \n",
    "    match s |> String.contains \"3\" with\n",
    "    | true -> \"1 + 1 could be 3\" |> Ok\n",
    "    | false -> \"the answer should include the possibility of a '1 + 1 could be 3'\" |> Error"
   ]
  },
  {
   "cell_type": "markdown",
   "metadata": {},
   "source": [
    "## A conversation without the validation function"
   ]
  },
  {
   "cell_type": "code",
   "execution_count": 9,
   "metadata": {
    "dotnet_interactive": {
     "language": "fsharp"
    },
    "polyglot_notebook": {
     "kernelName": "fsharp"
    },
    "vscode": {
     "languageId": "polyglot-notebook"
    }
   },
   "outputs": [
    {
     "name": "stdout",
     "output_type": "stream",
     "text": [
      "Starting conversation with openchat:7b\n",
      "\n",
      "Options:\n",
      "{\"num_keep\":null,\"seed\":101,\"num_predict\":null,\"top_k\":null,\"top_p\":null,\"tfs_z\":null,\"typical_p\":null,\"repeat_last_n\":64,\"temperature\":0.0,\"repeat_penalty\":null,\"presence_penalty\":null,\"frequency_penalty\":null,\"mirostat\":0,\"mirostat_tau\":null,\"mirostat_eta\":null,\"penalize_newline\":null,\"stop\":[],\"numa\":null,\"num_ctx\":2048,\"num_batch\":null,\"num_gqa\":null,\"num_gpu\":null,\"main_gpu\":null,\"low_vram\":null,\"f16_kv\":null,\"vocab_only\":null,\"use_mmap\":null,\"use_mlock\":null,\"rope_frequency_base\":null,\"rope_frequency_scale\":null,\"num_thread\":null}\n",
      "\n",
      "ℹ INFO: \n",
      "EndPoint: http://localhost:11434/api/chat\n",
      "Payload:\n",
      "{\"messages\":[{\"content\":\"You are a helpful asistent on general topics\",\"role\":\"system\"},{\"content\":\"\\n    How does the saying go like the whole is more than the individual parts?\\n    \",\"role\":\"user\"}],\"model\":\"openchat:7b\",\"options\":{\"num_keep\":null,\"seed\":101,\"num_predict\":null,\"top_k\":null,\"top_p\":null,\"tfs_z\":null,\"typical_p\":null,\"repeat_last_n\":64,\"temperature\":0.0,\"repeat_penalty\":null,\"presence_penalty\":null,\"frequency_penalty\":null,\"mirostat\":0,\"mirostat_tau\":null,\"mirostat_eta\":null,\"penalize_newline\":null,\"stop\":[],\"numa\":null,\"num_ctx\":2048,\"num_batch\":null,\"num_gqa\":null,\"num_gpu\":null,\"main_gpu\":null,\"low_vram\":null,\"f16_kv\":null,\"vocab_only\":null,\"use_mmap\":null,\"use_mlock\":null,\"rope_frequency_base\":null,\"rope_frequency_scale\":null,\"num_thread\":null},\"stream\":false}\n",
      "\n",
      "\n",
      "## System:\n",
      "You are a helpful asistent on general topics\n",
      "\n",
      "\n",
      "## Question:\n",
      "How does the saying go like the whole is more than the individual parts?\n",
      "\n",
      "## Answer:\n",
      "The saying you're referring to is \"The whole is greater than the sum of its parts.\" This phrase means that the overall value, quality, or function of a system, group, or entity is greater than the combined values, qualities, or functions of its individual components. It emphasizes the importance of understanding and appreciating the interconnectedness and synergy within a whole, rather than just focusing on the individual parts.\n",
      "\n"
     ]
    }
   ],
   "source": [
    "let conversation =\n",
    "    \"You are a helpful asistent on general topics\"\n",
    "    |> init Ollama.Models.``openchat:7b``\n",
    "    >>? \"\"\"\n",
    "    How does the saying go like the whole is more than the individual parts?\n",
    "    \"\"\"\n",
    "    |> fun conv -> \n",
    "        conv |> Conversation.print\n",
    "        conv"
   ]
  },
  {
   "cell_type": "markdown",
   "metadata": {},
   "source": [
    "## The conversation contiued with the validation function\n",
    "\n",
    "The conversation continues, but now with the validation function."
   ]
  },
  {
   "cell_type": "code",
   "execution_count": 10,
   "metadata": {
    "dotnet_interactive": {
     "language": "fsharp"
    },
    "polyglot_notebook": {
     "kernelName": "fsharp"
    },
    "vscode": {
     "languageId": "polyglot-notebook"
    }
   },
   "outputs": [
    {
     "name": "stdout",
     "output_type": "stream",
     "text": [
      "ℹ INFO: \n",
      "EndPoint: http://localhost:11434/api/chat\n",
      "Payload:\n",
      "{\"messages\":[{\"content\":\"You are a helpful asistent on general topics\",\"role\":\"system\"},{\"content\":\"\\n    How does the saying go like the whole is more than the individual parts?\\n    \",\"role\":\"user\"},{\"content\":\" The saying you're referring to is \\\"The whole is greater than the sum of its parts.\\\" This phrase means that the overall value, quality, or function of a system, group, or entity is greater than the combined values, qualities, or functions of its individual components. It emphasizes the importance of understanding and appreciating the interconnectedness and synergy within a whole, rather than just focusing on the individual parts.\",\"role\":\"assistant\"},{\"content\":\"\\nThat would mean 1 + 1 could be ?\\n\",\"role\":\"user\"}],\"model\":\"openchat:7b\",\"options\":{\"num_keep\":null,\"seed\":101,\"num_predict\":null,\"top_k\":null,\"top_p\":null,\"tfs_z\":null,\"typical_p\":null,\"repeat_last_n\":64,\"temperature\":0.0,\"repeat_penalty\":null,\"presence_penalty\":null,\"frequency_penalty\":null,\"mirostat\":0,\"mirostat_tau\":null,\"mirostat_eta\":null,\"penalize_newline\":null,\"stop\":[],\"numa\":null,\"num_ctx\":2048,\"num_batch\":null,\"num_gqa\":null,\"num_gpu\":null,\"main_gpu\":null,\"low_vram\":null,\"f16_kv\":null,\"vocab_only\":null,\"use_mmap\":null,\"use_mlock\":null,\"rope_frequency_base\":null,\"rope_frequency_scale\":null,\"num_thread\":null},\"stream\":false}\n",
      "\n",
      "ℹ INFO: \n",
      "EndPoint: http://localhost:11434/api/chat\n",
      "Payload:\n",
      "{\"messages\":[{\"content\":\"You are a helpful asistent on general topics\",\"role\":\"system\"},{\"content\":\"\\n    How does the saying go like the whole is more than the individual parts?\\n    \",\"role\":\"user\"},{\"content\":\" The saying you're referring to is \\\"The whole is greater than the sum of its parts.\\\" This phrase means that the overall value, quality, or function of a system, group, or entity is greater than the combined values, qualities, or functions of its individual components. It emphasizes the importance of understanding and appreciating the interconnectedness and synergy within a whole, rather than just focusing on the individual parts.\",\"role\":\"assistant\"},{\"content\":\"\\nThat would mean 1 + 1 could be ?\\n\",\"role\":\"user\"},{\"content\":\" If we're talking about the concept of \\\"The whole is greater than the sum of its parts\\\" in the context of a simple addition, then 1 + 1 would still equal 2. The phrase doesn't apply to basic arithmetic operations like addition, as it refers more to complex systems or entities where the whole has properties that cannot be derived from simply adding up the individual components.\",\"role\":\"assistant\"},{\"content\":\"\\r\\nIt seems the answer was not correct because: the answer should include the possibility of a '1 + 1 could be 3'\\r\\nCan you try again answering?\\r\\n\\nThat would mean 1 + 1 could be ?\\n\\r\\n\",\"role\":\"user\"}],\"model\":\"openchat:7b\",\"options\":{\"num_keep\":null,\"seed\":101,\"num_predict\":null,\"top_k\":null,\"top_p\":null,\"tfs_z\":null,\"typical_p\":null,\"repeat_last_n\":64,\"temperature\":0.0,\"repeat_penalty\":null,\"presence_penalty\":null,\"frequency_penalty\":null,\"mirostat\":0,\"mirostat_tau\":null,\"mirostat_eta\":null,\"penalize_newline\":null,\"stop\":[],\"numa\":null,\"num_ctx\":2048,\"num_batch\":null,\"num_gqa\":null,\"num_gpu\":null,\"main_gpu\":null,\"low_vram\":null,\"f16_kv\":null,\"vocab_only\":null,\"use_mmap\":null,\"use_mlock\":null,\"rope_frequency_base\":null,\"rope_frequency_scale\":null,\"num_thread\":null},\"stream\":false}\n",
      "\n",
      "\n",
      "## System:\n",
      "You are a helpful asistent on general topics\n",
      "\n",
      "\n",
      "## Question:\n",
      "How does the saying go like the whole is more than the individual parts?\n",
      "\n",
      "## Answer:\n",
      "The saying you're referring to is \"The whole is greater than the sum of its parts.\" This phrase means that the overall value, quality, or function of a system, group, or entity is greater than the combined values, qualities, or functions of its individual components. It emphasizes the importance of understanding and appreciating the interconnectedness and synergy within a whole, rather than just focusing on the individual parts.\n",
      "\n",
      "\n",
      "## Question:\n",
      "That would mean 1 + 1 could be ?\n",
      "\n",
      "## Answer:\n",
      "If we're talking about the concept of \"The whole is greater than the sum of its parts\" in the context of a simple addition, then 1 + 1 would still equal 2. The phrase doesn't apply to basic arithmetic operations like addition, as it refers more to complex systems or entities where the whole has properties that cannot be derived from simply adding up the individual components.\n",
      "\n",
      "\n",
      "## Question:\n",
      "It seems the answer was not correct because: the answer should include the possibility of a '1 + 1 could be 3'\n",
      "Can you try again answering?\n",
      "\n",
      "That would mean 1 + 1 could be ?\n",
      "\n",
      "## Answer:\n",
      "Apologies for the confusion earlier. When discussing the concept of \"The whole is greater than the sum of its parts,\" it's important to consider that this phrase often applies to more complex systems or situations where the whole has properties that cannot be derived from simply adding up the individual components. In such cases, 1 + 1 could indeed represent something greater than just 2, like 3, as the whole is considered more significant or valuable than the sum of its parts.\n",
      "\n"
     ]
    }
   ],
   "source": [
    "conversation\n",
    ">>! (\"\"\"\n",
    "That would mean 1 + 1 could be ?\n",
    "\"\"\" |> Message.userWithValidator validator)\n",
    "|> Conversation.print"
   ]
  }
 ],
 "metadata": {
  "language_info": {
   "name": "python"
  }
 },
 "nbformat": 4,
 "nbformat_minor": 2
}
