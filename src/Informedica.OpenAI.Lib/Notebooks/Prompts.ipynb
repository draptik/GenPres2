{
 "cells": [
  {
   "cell_type": "markdown",
   "metadata": {},
   "source": [
    "# Using predefined prompts\n",
    "\n",
    "First setup the notebook"
   ]
  },
  {
   "cell_type": "code",
   "execution_count": 1,
   "metadata": {
    "dotnet_interactive": {
     "language": "fsharp"
    },
    "polyglot_notebook": {
     "kernelName": "fsharp"
    }
   },
   "outputs": [],
   "source": [
    "#load \"load.fsx\"\n",
    "\n",
    "open Informedica.OpenAI.Lib\n",
    "open Ollama.Operators"
   ]
  },
  {
   "cell_type": "markdown",
   "metadata": {},
   "source": [
    "## The tasks prompt\n",
    "\n",
    "Initializes a system that is an expert on creating task prompts"
   ]
  },
  {
   "cell_type": "code",
   "execution_count": 3,
   "metadata": {
    "dotnet_interactive": {
     "language": "fsharp"
    },
    "polyglot_notebook": {
     "kernelName": "fsharp"
    }
   },
   "outputs": [
    {
     "name": "stdout",
     "output_type": "stream",
     "text": [
      "Starting conversation with mistral:7b-instruct\n",
      "\n",
      "Options:\n",
      "{\"num_keep\":null,\"seed\":101,\"num_predict\":null,\"top_k\":null,\"top_p\":null,\"tfs_z\":null,\"typical_p\":null,\"repeat_last_n\":64,\"temperature\":0.0,\"repeat_penalty\":null,\"presence_penalty\":null,\"frequency_penalty\":null,\"mirostat\":0,\"mirostat_tau\":null,\"mirostat_eta\":null,\"penalize_newline\":null,\"stop\":[],\"numa\":null,\"num_ctx\":2048,\"num_batch\":null,\"num_gqa\":null,\"num_gpu\":null,\"main_gpu\":null,\"low_vram\":null,\"f16_kv\":null,\"vocab_only\":null,\"use_mmap\":null,\"use_mlock\":null,\"rope_frequency_base\":null,\"rope_frequency_scale\":null,\"num_thread\":null}\n",
      "\n",
      "ℹ INFO: \n",
      "EndPoint: http://localhost:11434/api/chat\n",
      "Payload:\n",
      "{\"messages\":[{\"content\":\"\\nYou are a world-class prompt engineering assistant. Generate a clear, effective prompt\\nthat accurately interprets and structures the user's task, ensuring it is comprehensive,\\nactionable, and tailored to elicit the most relevant and precise output from an AI model.\\nWhen appropriate enhance the prompt with the required persona, format, style, and\\ncontext to showcase a powerful prompt.\\n\",\"role\":\"system\"}],\"model\":\"mistral:7b-instruct\",\"options\":{\"num_keep\":null,\"seed\":101,\"num_predict\":null,\"top_k\":null,\"top_p\":null,\"tfs_z\":null,\"typical_p\":null,\"repeat_last_n\":64,\"temperature\":0.0,\"repeat_penalty\":null,\"presence_penalty\":null,\"frequency_penalty\":null,\"mirostat\":0,\"mirostat_tau\":null,\"mirostat_eta\":null,\"penalize_newline\":null,\"stop\":[],\"numa\":null,\"num_ctx\":2048,\"num_batch\":null,\"num_gqa\":null,\"num_gpu\":null,\"main_gpu\":null,\"low_vram\":null,\"f16_kv\":null,\"vocab_only\":null,\"use_mmap\":null,\"use_mlock\":null,\"rope_frequency_base\":null,\"rope_frequency_scale\":null,\"num_thread\":null},\"stream\":false}\n",
      "\n",
      "Got an answer\n",
      "ℹ INFO: \n",
      "EndPoint: http://localhost:11434/api/chat\n",
      "Payload:\n",
      "{\"messages\":[{\"content\":\"\\nYou are a world-class prompt engineering assistant. Generate a clear, effective prompt\\nthat accurately interprets and structures the user's task, ensuring it is comprehensive,\\nactionable, and tailored to elicit the most relevant and precise output from an AI model.\\nWhen appropriate enhance the prompt with the required persona, format, style, and\\ncontext to showcase a powerful prompt.\\n\",\"role\":\"system\"},{\"content\":\"Create a prompt to extract structured information from a text\",\"role\":\"user\"}],\"model\":\"mistral:7b-instruct\",\"options\":{\"num_keep\":null,\"seed\":101,\"num_predict\":null,\"top_k\":null,\"top_p\":null,\"tfs_z\":null,\"typical_p\":null,\"repeat_last_n\":64,\"temperature\":0.0,\"repeat_penalty\":null,\"presence_penalty\":null,\"frequency_penalty\":null,\"mirostat\":0,\"mirostat_tau\":null,\"mirostat_eta\":null,\"penalize_newline\":null,\"stop\":[],\"numa\":null,\"num_ctx\":2048,\"num_batch\":null,\"num_gqa\":null,\"num_gpu\":null,\"main_gpu\":null,\"low_vram\":null,\"f16_kv\":null,\"vocab_only\":null,\"use_mmap\":null,\"use_mlock\":null,\"rope_frequency_base\":null,\"rope_frequency_scale\":null,\"num_thread\":null},\"stream\":false}\n",
      "\n",
      "\n",
      "## Question:\n",
      "You are a world-class prompt engineering assistant. Generate a clear, effective prompt\n",
      "that accurately interprets and structures the user's task, ensuring it is comprehensive,\n",
      "actionable, and tailored to elicit the most relevant and precise output from an AI model.\n",
      "When appropriate enhance the prompt with the required persona, format, style, and\n",
      "context to showcase a powerful prompt.\n",
      "\n",
      "## Answer:\n",
      "Prompt: As a professional event planner, you are tasked with organizing a virtual conference for a technology company. Your goal is to create an engaging and interactive experience for attendees, while ensuring seamless technical execution. Here's what you need to do:\n",
      "\n",
      "1. Identify the target audience and their preferences (e.g., demographics, interests, communication channels)\n",
      "2. Choose a virtual conference platform that meets the company's requirements and budget\n",
      "3. Design an agenda with a mix of keynote speeches, interactive workshops, panel discussions, and networking opportunities\n",
      "4. Recruit high-profile speakers and moderators for each session\n",
      "5. Create promotional materials (e.g., email templates, social media posts copy) to attract attendees\n",
      "6. Set up the virtual conference space, including branding, layout, and accessibility features\n",
      "7. Test the platform's functionality and troubleshoot any technical issues\n",
      "8. Manage attendee registration and communication leading up to the event\n",
      "9. Facilitate live Q&A sessions during each session and manage attendee interactions\n",
      "10. Provide post-event follow-up, including surveys, feedback collection, and sharing of recordings or presentation materials\n",
      "\n",
      "Your output should be a detailed plan for organizing a successful virtual conference, including the steps you'll take to accomplish each task and any potential challenges you anticipate. Use a clear, concise writing style and provide specific examples where appropriate.\n",
      "\n",
      "\n",
      "\n",
      "## Question:\n",
      "Create a prompt to extract structured information from a text\n",
      "\n",
      "## Answer:\n",
      "Prompt: Extract key-value pairs from the given text using identified keys.\n",
      "\n",
      "Context: You are an assistant designed to process and extract structured data from unstructured text. The text provided may contain various pieces of information, some of which can be represented as key-value pairs. Your task is to identify the keys (i.e., labels or categories) and their corresponding values within the text.\n",
      "\n",
      "Format: Identify each key followed by a colon (:) and the value associated with it. Ensure that the keys are unique and descriptive, making it easy for further processing and analysis.\n",
      "\n",
      "Example: Given text: \"The product was manufactured in China, with a production cost of $5 per unit and a selling price of $10.\"\n",
      "\n",
      "Expected output: [\"Country: China\", \"Production Cost per Unit: $5\", \"Selling Price: $10\"]\n",
      "\n",
      "Style: Process the text methodically, focusing on extracting clear and actionable data. Be persistent in identifying keys and their corresponding values, even if they appear in different formats or locations within the text.\n",
      "\n",
      "Persona: You are a meticulous data processor, dedicated to ensuring that all relevant information is extracted from the text and presented in a structured format for further analysis.\n",
      "\n",
      "\n"
     ]
    }
   ],
   "source": [
    "let conversation =\n",
    "    Prompts.tasks\n",
    "    |> init Ollama.Models.``mistral:7b-instruct``\n",
    "    >>? \"Create a prompt to extract structured information from a text\"\n",
    "\n",
    "conversation |> Conversation.print"
   ]
  },
  {
   "cell_type": "markdown",
   "metadata": {},
   "source": [
    "## A general assistent that answers questions"
   ]
  },
  {
   "cell_type": "code",
   "execution_count": 5,
   "metadata": {
    "dotnet_interactive": {
     "language": "fsharp"
    },
    "polyglot_notebook": {
     "kernelName": "fsharp"
    }
   },
   "outputs": [
    {
     "name": "stdout",
     "output_type": "stream",
     "text": [
      "Starting conversation with openchat:7b\n",
      "\n",
      "Options:\n",
      "{\"num_keep\":null,\"seed\":101,\"num_predict\":null,\"top_k\":null,\"top_p\":null,\"tfs_z\":null,\"typical_p\":null,\"repeat_last_n\":64,\"temperature\":0.0,\"repeat_penalty\":null,\"presence_penalty\":null,\"frequency_penalty\":null,\"mirostat\":0,\"mirostat_tau\":null,\"mirostat_eta\":null,\"penalize_newline\":null,\"stop\":[],\"numa\":null,\"num_ctx\":2048,\"num_batch\":null,\"num_gqa\":null,\"num_gpu\":null,\"main_gpu\":null,\"low_vram\":null,\"f16_kv\":null,\"vocab_only\":null,\"use_mmap\":null,\"use_mlock\":null,\"rope_frequency_base\":null,\"rope_frequency_scale\":null,\"num_thread\":null}\n",
      "\n",
      "ℹ INFO: \n",
      "EndPoint: http://localhost:11434/api/chat\n",
      "Payload:\n",
      "{\"messages\":[{\"content\":\"\\nYou are a world-class AI assistant. Your communication is brief and concise.\\nYou're precise and answer only when you're confident in the high quality of your answer.\\n\",\"role\":\"system\"}],\"model\":\"openchat:7b\",\"options\":{\"num_keep\":null,\"seed\":101,\"num_predict\":null,\"top_k\":null,\"top_p\":null,\"tfs_z\":null,\"typical_p\":null,\"repeat_last_n\":64,\"temperature\":0.0,\"repeat_penalty\":null,\"presence_penalty\":null,\"frequency_penalty\":null,\"mirostat\":0,\"mirostat_tau\":null,\"mirostat_eta\":null,\"penalize_newline\":null,\"stop\":[],\"numa\":null,\"num_ctx\":2048,\"num_batch\":null,\"num_gqa\":null,\"num_gpu\":null,\"main_gpu\":null,\"low_vram\":null,\"f16_kv\":null,\"vocab_only\":null,\"use_mmap\":null,\"use_mlock\":null,\"rope_frequency_base\":null,\"rope_frequency_scale\":null,\"num_thread\":null},\"stream\":false}\n",
      "\n",
      "Got an answer\n",
      "ℹ INFO: \n",
      "EndPoint: http://localhost:11434/api/chat\n",
      "Payload:\n",
      "{\"messages\":[{\"content\":\"\\nYou are a world-class AI assistant. Your communication is brief and concise.\\nYou're precise and answer only when you're confident in the high quality of your answer.\\n\",\"role\":\"system\"},{\"content\":\"Is endtidal CO2 lower or higher than blood pCO2 in patients with transposition of the greate arteries?\",\"role\":\"user\"}],\"model\":\"openchat:7b\",\"options\":{\"num_keep\":null,\"seed\":101,\"num_predict\":null,\"top_k\":null,\"top_p\":null,\"tfs_z\":null,\"typical_p\":null,\"repeat_last_n\":64,\"temperature\":0.0,\"repeat_penalty\":null,\"presence_penalty\":null,\"frequency_penalty\":null,\"mirostat\":0,\"mirostat_tau\":null,\"mirostat_eta\":null,\"penalize_newline\":null,\"stop\":[],\"numa\":null,\"num_ctx\":2048,\"num_batch\":null,\"num_gqa\":null,\"num_gpu\":null,\"main_gpu\":null,\"low_vram\":null,\"f16_kv\":null,\"vocab_only\":null,\"use_mmap\":null,\"use_mlock\":null,\"rope_frequency_base\":null,\"rope_frequency_scale\":null,\"num_thread\":null},\"stream\":false}\n",
      "\n",
      "ℹ INFO: \n",
      "EndPoint: http://localhost:11434/api/chat\n",
      "Payload:\n",
      "{\"messages\":[{\"content\":\"\\nYou are a world-class AI assistant. Your communication is brief and concise.\\nYou're precise and answer only when you're confident in the high quality of your answer.\\n\",\"role\":\"system\"},{\"content\":\"Is endtidal CO2 lower or higher than blood pCO2 in patients with transposition of the greate arteries?\",\"role\":\"user\"},{\"content\":\"Can you provide literatur references for your answer?\",\"role\":\"user\"}],\"model\":\"openchat:7b\",\"options\":{\"num_keep\":null,\"seed\":101,\"num_predict\":null,\"top_k\":null,\"top_p\":null,\"tfs_z\":null,\"typical_p\":null,\"repeat_last_n\":64,\"temperature\":0.0,\"repeat_penalty\":null,\"presence_penalty\":null,\"frequency_penalty\":null,\"mirostat\":0,\"mirostat_tau\":null,\"mirostat_eta\":null,\"penalize_newline\":null,\"stop\":[],\"numa\":null,\"num_ctx\":2048,\"num_batch\":null,\"num_gqa\":null,\"num_gpu\":null,\"main_gpu\":null,\"low_vram\":null,\"f16_kv\":null,\"vocab_only\":null,\"use_mmap\":null,\"use_mlock\":null,\"rope_frequency_base\":null,\"rope_frequency_scale\":null,\"num_thread\":null},\"stream\":false}\n",
      "\n",
      "\n",
      "## Question:\n",
      "You are a world-class AI assistant. Your communication is brief and concise.\n",
      "You're precise and answer only when you're confident in the high quality of your answer.\n",
      "\n",
      "## Answer:\n",
      "I am ready to assist you with any questions or tasks you may have. Please provide me with a specific question or task, and I will do my best to help you.\n",
      "\n",
      "\n",
      "\n",
      "## Question:\n",
      "Is endtidal CO2 lower or higher than blood pCO2 in patients with transposition of the greate arteries?\n",
      "\n",
      "## Answer:\n",
      "In patients with transposition of the great arteries, end-tidal CO2 (etCO2) is typically lower than arterial blood pCO2. This is due to the increased pulmonary blood flow and decreased systemic blood flow in these patients, which can lead to a higher rate of alveolar dead space ventilation and reduced carbon dioxide exchange efficiency.\n",
      "\n",
      "\n",
      "\n",
      "## Question:\n",
      "Can you provide literatur references for your answer?\n",
      "\n",
      "## Answer:\n",
      "In patients with transposition of the great arteries (TGA), end-tidal CO2 (PetCO2) may not accurately reflect arterial blood pCO2 (PaCO2). This is because TGA patients typically have a single functional ventricle, which can lead to altered pulmonary and systemic circulation. As a result, the relationship between PetCO2 and PaCO2 may be affected.\n",
      "\n",
      "However, I am unable to provide specific literature references at this time due to limitations in my search capabilities. It is recommended that you consult recent medical literature or contact a healthcare professional for more detailed information and references.\n",
      "\n",
      "\n"
     ]
    }
   ],
   "source": [
    "let conversation =\n",
    "    Prompts.assistentAsk\n",
    "    |> init Ollama.Models.``openchat:7b``\n",
    "    >>? \"Is endtidal CO2 lower or higher than blood pCO2 in patients with transposition of the greate arteries?\"\n",
    "    >>? \"Can you provide literatur references for your answer?\"\n",
    "\n",
    "conversation |> Conversation.print"
   ]
  }
 ],
 "metadata": {
  "kernelspec": {
   "display_name": ".NET (C#)",
   "language": "C#",
   "name": ".net-csharp"
  },
  "language_info": {
   "name": "polyglot-notebook"
  },
  "polyglot_notebook": {
   "kernelInfo": {
    "defaultKernelName": "csharp",
    "items": [
     {
      "aliases": [],
      "name": "csharp"
     },
     {
      "aliases": [],
      "languageName": "fsharp",
      "name": "fsharp"
     }
    ]
   }
  }
 },
 "nbformat": 4,
 "nbformat_minor": 2
}
