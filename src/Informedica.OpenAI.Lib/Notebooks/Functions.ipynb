{
 "cells": [
  {
   "cell_type": "code",
   "execution_count": 1,
   "metadata": {
    "dotnet_interactive": {
     "language": "fsharp"
    },
    "polyglot_notebook": {
     "kernelName": "fsharp"
    }
   },
   "outputs": [],
   "source": [
    "#load \"load.fsx\"\n",
    "\n",
    "open Newtonsoft.Json\n",
    "\n",
    "open Informedica.OpenAI.Lib\n",
    "open Ollama.Operators"
   ]
  },
  {
   "cell_type": "code",
   "execution_count": 3,
   "metadata": {
    "dotnet_interactive": {
     "language": "fsharp"
    },
    "polyglot_notebook": {
     "kernelName": "fsharp"
    }
   },
   "outputs": [
    {
     "name": "stdout",
     "output_type": "stream",
     "text": [
      "<functioncall>{\"name\": \"get_the_weather\", \"arguments\": {\"city\": \"Seattle\", \"state\": \"Washington\"}}\n"
     ]
    }
   ],
   "source": [
    "let tools =\n",
    "    {|\n",
    "      city =  {|\n",
    "        ``type`` =  \"string\"\n",
    "        description = \"The city to get the weather for\"\n",
    "      |}\n",
    "      state = {|\n",
    "        ``type`` =  \"string\"\n",
    "        description = \"The state to get the weather for\"\n",
    "      |}\n",
    "    |}\n",
    "    |> Ollama.Tool.create\n",
    "        \"get_weather\"\n",
    "        \"Get the weather.\"\n",
    "        [\"city\"; \"state\"]\n",
    "    |> List.singleton\n",
    "\n",
    "\"What is the weather in Seattle?\"\n",
    "|> Ollama.Message.user\n",
    "|> Ollama.extract\n",
    "    tools\n",
    "    \"joefamous/firefunction-v1:q3_k\"\n",
    "    []\n",
    "|> Async.RunSynchronously\n",
    "|> function\n",
    "    | Ok resp ->\n",
    "        resp.message.content\n",
    "        |> printfn \"%s\"\n",
    "    | _ -> ()"
   ]
  }
 ],
 "metadata": {
  "kernelspec": {
   "display_name": ".NET (F#)",
   "language": "F#",
   "name": ".net-fsharp"
  },
  "language_info": {
   "name": "polyglot-notebook"
  },
  "polyglot_notebook": {
   "kernelInfo": {
    "defaultKernelName": "fsharp",
    "items": [
     {
      "aliases": [],
      "languageName": "fsharp",
      "name": "fsharp"
     }
    ]
   }
  }
 },
 "nbformat": 4,
 "nbformat_minor": 2
}
