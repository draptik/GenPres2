{
 "cells": [
  {
   "cell_type": "markdown",
   "metadata": {},
   "source": [
    "# Ollama function calling\n",
    "\n",
    "First setup the notebook"
   ]
  },
  {
   "cell_type": "code",
   "execution_count": 1,
   "metadata": {
    "dotnet_interactive": {
     "language": "fsharp"
    },
    "polyglot_notebook": {
     "kernelName": "fsharp"
    }
   },
   "outputs": [],
   "source": [
    "#load \"load.fsx\"\n",
    "\n",
    "open Newtonsoft.Json\n",
    "\n",
    "open Informedica.OpenAI.Lib\n",
    "open Ollama.Operators"
   ]
  },
  {
   "cell_type": "markdown",
   "metadata": {},
   "source": [
    "## Create a tools list\n",
    "\n",
    "The tools list contain the \"tools\", i.e. the functions that can be use by the LLM to return the answer."
   ]
  },
  {
   "cell_type": "code",
   "execution_count": 4,
   "metadata": {
    "dotnet_interactive": {
     "language": "fsharp"
    },
    "polyglot_notebook": {
     "kernelName": "fsharp"
    }
   },
   "outputs": [
    {
     "name": "stdout",
     "output_type": "stream",
     "text": [
      "## The tools object:\n",
      "[{ type = \"function\"\n",
      "  function =\n",
      "   { name = \"get_weather\"\n",
      "     description = \"Get the weather.\"\n",
      "     parameters =\n",
      "      { type = \"object\"\n",
      "        properties =\n",
      "         { city = { description = \"The city to get the weather for\"\n",
      "                    type = \"string\" }\n",
      "           state = { description = \"The state to get the weather for\"\n",
      "                     type = \"string\" } }\n",
      "        required = [\"city\"; \"state\"] } } }]\n"
     ]
    }
   ],
   "source": [
    "let tools =\n",
    "    {|\n",
    "      city =  {|\n",
    "        ``type`` =  \"string\"\n",
    "        description = \"The city to get the weather for\"\n",
    "      |}\n",
    "      state = {|\n",
    "        ``type`` =  \"string\"\n",
    "        description = \"The state to get the weather for\"\n",
    "      |}\n",
    "    |}\n",
    "    |> Ollama.Tool.create\n",
    "        \"get_weather\"\n",
    "        \"Get the weather.\"\n",
    "        [\"city\"; \"state\"]\n",
    "    |> List.singleton\n",
    "\n",
    "printfn $\"## The tools object:\\n{tools}\""
   ]
  },
  {
   "cell_type": "markdown",
   "metadata": {},
   "source": [
    "## Run a question using the tools object\n",
    "\n",
    "Note: function calling with ollama is (currently) really slow. Maybe because it tries to run the function that is actually not there?"
   ]
  },
  {
   "cell_type": "code",
   "execution_count": 3,
   "metadata": {
    "dotnet_interactive": {
     "language": "fsharp"
    },
    "polyglot_notebook": {
     "kernelName": "fsharp"
    }
   },
   "outputs": [
    {
     "name": "stdout",
     "output_type": "stream",
     "text": [
      "ℹ INFO: \n",
      "EndPoint: http://localhost:11434/api/chat\n",
      "Payload:\n",
      "{\"messages\":[{\"content\":\"What is the weather in Seattle?\",\"role\":\"user\"}],\"model\":\"joefamous/firefunction-v1:q3_k\",\"options\":{\"num_keep\":null,\"seed\":101,\"num_predict\":null,\"top_k\":null,\"top_p\":null,\"tfs_z\":null,\"typical_p\":null,\"repeat_last_n\":64,\"temperature\":0.0,\"repeat_penalty\":null,\"presence_penalty\":null,\"frequency_penalty\":null,\"mirostat\":0,\"mirostat_tau\":null,\"mirostat_eta\":null,\"penalize_newline\":null,\"stop\":[],\"numa\":null,\"num_ctx\":2048,\"num_batch\":null,\"num_gqa\":null,\"num_gpu\":null,\"main_gpu\":null,\"low_vram\":null,\"f16_kv\":null,\"vocab_only\":null,\"use_mmap\":null,\"use_mlock\":null,\"rope_frequency_base\":null,\"rope_frequency_scale\":null,\"num_thread\":null},\"stream\":false,\"tools\":[{\"type\":\"function\",\"function\":{\"name\":\"get_weather\",\"description\":\"Get the weather.\",\"parameters\":{\"type\":\"object\",\"properties\":{\"city\":{\"description\":\"The city to get the weather for\",\"type\":\"string\"},\"state\":{\"description\":\"The state to get the weather for\",\"type\":\"string\"}},\"required\":[\"city\",\"state\"]}}}]}\n",
      "\n"
     ]
    },
    {
     "ename": "Error",
     "evalue": "System.Threading.Tasks.TaskCanceledException: A task was canceled.\n   at Microsoft.FSharp.Control.AsyncResult`1.Commit() in D:\\a\\_work\\1\\s\\src\\FSharp.Core\\async.fs:line 454\n   at Microsoft.FSharp.Control.AsyncPrimitives.RunImmediate[a](CancellationToken cancellationToken, FSharpAsync`1 computation) in D:\\a\\_work\\1\\s\\src\\FSharp.Core\\async.fs:line 1160\n   at Microsoft.FSharp.Control.AsyncPrimitives.RunSynchronously[T](CancellationToken cancellationToken, FSharpAsync`1 computation, FSharpOption`1 timeout) in D:\\a\\_work\\1\\s\\src\\FSharp.Core\\async.fs:line 1166\n   at Microsoft.FSharp.Control.FSharpAsync.RunSynchronously[T](FSharpAsync`1 computation, FSharpOption`1 timeout, FSharpOption`1 cancellationToken) in D:\\a\\_work\\1\\s\\src\\FSharp.Core\\async.fs:line 1511\n   at <StartupCode$FSI_0010>.$FSI_0010.main@()\n   at System.RuntimeMethodHandle.InvokeMethod(Object target, Void** arguments, Signature sig, Boolean isConstructor)\n   at System.Reflection.MethodBaseInvoker.InvokeWithNoArgs(Object obj, BindingFlags invokeAttr)",
     "output_type": "error",
     "traceback": [
      "System.Threading.Tasks.TaskCanceledException: A task was canceled.\n",
      "   at Microsoft.FSharp.Control.AsyncResult`1.Commit() in D:\\a\\_work\\1\\s\\src\\FSharp.Core\\async.fs:line 454\n",
      "   at Microsoft.FSharp.Control.AsyncPrimitives.RunImmediate[a](CancellationToken cancellationToken, FSharpAsync`1 computation) in D:\\a\\_work\\1\\s\\src\\FSharp.Core\\async.fs:line 1160\n",
      "   at Microsoft.FSharp.Control.AsyncPrimitives.RunSynchronously[T](CancellationToken cancellationToken, FSharpAsync`1 computation, FSharpOption`1 timeout) in D:\\a\\_work\\1\\s\\src\\FSharp.Core\\async.fs:line 1166\n",
      "   at Microsoft.FSharp.Control.FSharpAsync.RunSynchronously[T](FSharpAsync`1 computation, FSharpOption`1 timeout, FSharpOption`1 cancellationToken) in D:\\a\\_work\\1\\s\\src\\FSharp.Core\\async.fs:line 1511\n",
      "   at <StartupCode$FSI_0010>.$FSI_0010.main@()\n",
      "   at System.RuntimeMethodHandle.InvokeMethod(Object target, Void** arguments, Signature sig, Boolean isConstructor)\n",
      "   at System.Reflection.MethodBaseInvoker.InvokeWithNoArgs(Object obj, BindingFlags invokeAttr)"
     ]
    }
   ],
   "source": [
    "\"What is the weather in Seattle?\"\n",
    "|> Message.user\n",
    "|> Ollama.extract\n",
    "    tools\n",
    "    \"joefamous/firefunction-v1:q3_k\"\n",
    "    []\n",
    "|> Async.RunSynchronously\n",
    "|> function\n",
    "    | Ok resp ->\n",
    "        resp.Response.message.content\n",
    "        |> printfn \"%s\"\n",
    "    | _ -> ()"
   ]
  }
 ],
 "metadata": {
  "kernelspec": {
   "display_name": ".NET (C#)",
   "language": "C#",
   "name": ".net-csharp"
  },
  "language_info": {
   "name": "polyglot-notebook"
  },
  "polyglot_notebook": {
   "kernelInfo": {
    "defaultKernelName": "csharp",
    "items": [
     {
      "aliases": [],
      "name": "csharp"
     },
     {
      "aliases": [],
      "languageName": "fsharp",
      "name": "fsharp"
     }
    ]
   }
  }
 },
 "nbformat": 4,
 "nbformat_minor": 2
}
