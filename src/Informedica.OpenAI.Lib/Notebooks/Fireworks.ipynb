{
 "cells": [
  {
   "cell_type": "markdown",
   "metadata": {},
   "source": [
    "# Use the Fireworks API\n",
    "\n",
    "The Fireworks API can be used as well. First setup the notebook. \n",
    "\n",
    "Note: in order to use this api an environmental variable has te be set with the api key: `FIREWORKS_API_KEY`"
   ]
  },
  {
   "cell_type": "code",
   "execution_count": 1,
   "metadata": {
    "dotnet_interactive": {
     "language": "fsharp"
    },
    "polyglot_notebook": {
     "kernelName": "fsharp"
    }
   },
   "outputs": [],
   "source": [
    "#load \"load.fsx\"\n",
    "\n",
    "open Informedica.Utils.Lib.BCL\n",
    "open Informedica.OpenAI.Lib\n",
    "open Fireworks.Operators"
   ]
  },
  {
   "cell_type": "markdown",
   "metadata": {},
   "source": [
    "## Get al list of all models available for the Fireworks API"
   ]
  },
  {
   "cell_type": "code",
   "execution_count": 5,
   "metadata": {
    "dotnet_interactive": {
     "language": "fsharp"
    },
    "polyglot_notebook": {
     "kernelName": "fsharp"
    }
   },
   "outputs": [
    {
     "name": "stdout",
     "output_type": "stream",
     "text": [
      "ℹ INFO: \n",
      "EndPoint: https://api.fireworks.ai/inference/v1/models\n",
      "Payload:\n",
      "\n",
      "\n",
      "accounts/fireworks/models/bleat-adapter\n",
      "accounts/fireworks/models/chinese-llama-2-lora-7b\n",
      "accounts/fireworks/models/devashisht-test-v2\n",
      "accounts/fireworks/models/dt-fc-rc-v1\n",
      "accounts/fireworks/models/firefunction-pawel-v1\n",
      "accounts/fireworks/models/firefunction-rc-cotv3\n",
      "accounts/fireworks/models/firefunction-rc-cotv4\n",
      "accounts/fireworks/models/firefunction-rc-cotv5\n",
      "accounts/fireworks/models/firefunction-v1\n",
      "accounts/fireworks/models/firellava-13b\n",
      "accounts/devashisht-72fdad/models/function-calling-v11\n",
      "accounts/fireworks/models/fw-function-call-34b-v0\n",
      "accounts/fireworks/models/gemma-7b-it\n",
      "accounts/stability/models/japanese-stablelm-instruct-beta-70b\n",
      "accounts/stability/models/japanese-stablelm-instruct-gamma-7b\n",
      "accounts/fireworks/models/llama-2-13b-fp16-french\n",
      "accounts/fireworks/models/llama-2-13b-guanaco-peft\n",
      "accounts/fireworks/models/llama2-7b-summarize\n",
      "accounts/fireworks/models/llamaguard-7b\n",
      "accounts/fireworks/models/llama-v2-13b\n",
      "accounts/fireworks/models/llama-v2-13b-chat\n",
      "accounts/fireworks/models/llama-v2-13b-code\n",
      "accounts/fireworks/models/llama-v2-13b-code-instruct\n",
      "accounts/fireworks/models/llama-v2-34b-code\n",
      "accounts/fireworks/models/llama-v2-34b-code-instruct\n",
      "accounts/fireworks/models/llama-v2-70b\n",
      "accounts/fireworks/models/llama-v2-70b-chat\n",
      "accounts/fireworks/models/llama-v2-70b-code-instruct\n",
      "accounts/fireworks/models/llama-v2-7b\n",
      "accounts/fireworks/models/llama-v2-7b-chat\n",
      "accounts/fireworks/models/mistral-7b\n",
      "accounts/fireworks/models/mistral-7b-instruct-4k\n",
      "accounts/fireworks/models/mistral-7b-instruct-v0p2\n",
      "accounts/dev-e24710/models/mistral-spellbound-format\n",
      "accounts/fireworks/models/mixtral-8x7b\n",
      "accounts/fireworks/models/mixtral-8x7b-instruct\n",
      "accounts/fireworks/models/mixtral-8x7b-instruct-fp8\n",
      "accounts/fireworks/models/mixtral-8x7b-instruct-hf\n",
      "accounts/fireworks/models/mythomax-l2-13b\n",
      "accounts/fireworks/models/new-mixtral-chat\n",
      "accounts/fireworks/models/nous-hermes-2-mixtral-8x7b-dpo-fp8\n",
      "accounts/fireworks/models/qwen-14b-chat\n",
      "accounts/fireworks/models/qwen-72b-chat\n",
      "accounts/stability/models/stablelm-zephyr-3b\n",
      "accounts/fireworks/models/starcoder-16b\n",
      "accounts/fireworks/models/starcoder-7b\n",
      "accounts/fireworks/models/traditional-chinese-qlora-llama2\n",
      "accounts/fireworks/models/yi-34b-200k-capybara\n",
      "accounts/fireworks/models/yi-34b-chat\n",
      "accounts/fireworks/models/zephyr-7b-beta\n"
     ]
    }
   ],
   "source": [
    "Fireworks.list ()\n",
    "|> List.iter (printfn \"%s\")"
   ]
  },
  {
   "cell_type": "markdown",
   "metadata": {},
   "source": [
    "## The LLM hello world example using the Fireworks API\n",
    "\n",
    "Run the \"hello world\" example."
   ]
  },
  {
   "cell_type": "code",
   "execution_count": 12,
   "metadata": {
    "dotnet_interactive": {
     "language": "fsharp"
    },
    "polyglot_notebook": {
     "kernelName": "fsharp"
    }
   },
   "outputs": [
    {
     "name": "stdout",
     "output_type": "stream",
     "text": [
      "ℹ INFO: \n",
      "EndPoint: https://api.fireworks.ai/inference/v1/chat/completions\n",
      "Payload:\n",
      "{\"model\":\"accounts/fireworks/models/llama-v2-70b-chat\",\"messages\":[{\"content\":\"Why is the sky blue?\",\"role\":\"user\"}],\"tools\":[],\"max_tokens\":200,\"prompt_truncate_len\":1500,\"temperature\":0.0,\"top_p\":1.0,\"top_k\":50,\"frequency_penalty\":0.0,\"presence_penalty\":0.0,\"n\":1,\"stop\":[],\"response_format\":{\"type\":\"text\",\"schema\":null},\"stream\":false,\"context_length_exceeded_behavior\":\"truncate\",\"user\":\"user\"}\n",
      "\n",
      "Hello! The sky appears blue because of a phenomenon called Rayleigh scattering, which is the scattering of sunlight by small particles in the Earth's atmosphere, such as nitrogen and oxygen molecules. The shorter, blue wavelengths are scattered more than the longer, red wavelengths, giving the sky its blue appearance. This is a fascinating topic, and there's more to learn about it if you're interested! Is there anything else I can help you with?\n"
     ]
    }
   ],
   "source": [
    "let model = \"accounts/fireworks/models/llama-v2-70b-chat\"\n",
    "\n",
    "\n",
    "Fireworks.Chat.defaultChatInput\n",
    "    model\n",
    "    {\n",
    "        Role = \"user\"\n",
    "        Content = \"Why is the sky blue?\"\n",
    "        Validator = Ok\n",
    "    }\n",
    "    []\n",
    "|> Fireworks.chat\n",
    "|> Async.RunSynchronously\n",
    "|> function\n",
    "    | Ok resp ->\n",
    "        resp.Response.choices\n",
    "        |> List.last\n",
    "        |> _.message\n",
    "        |> _.content\n",
    "        |> printfn \"%s\"\n",
    "    | Error err -> ()"
   ]
  }
 ],
 "metadata": {
  "kernelspec": {
   "display_name": ".NET (C#)",
   "language": "C#",
   "name": ".net-csharp"
  },
  "language_info": {
   "name": "polyglot-notebook"
  },
  "polyglot_notebook": {
   "kernelInfo": {
    "defaultKernelName": "csharp",
    "items": [
     {
      "aliases": [],
      "name": "csharp"
     },
     {
      "aliases": [],
      "languageName": "fsharp",
      "name": "fsharp"
     }
    ]
   }
  }
 },
 "nbformat": 4,
 "nbformat_minor": 2
}
